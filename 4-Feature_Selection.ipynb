{
 "cells": [
  {
   "cell_type": "markdown",
   "metadata": {},
   "source": [
    "# 4 - Feature Selection"
   ]
  },
  {
   "cell_type": "code",
   "execution_count": null,
   "metadata": {},
   "outputs": [],
   "source": [
    "import pandas as pd\n",
    "from sklearn.linear_model import Lasso\n",
    "import statsmodels.api as sm"
   ]
  },
  {
   "cell_type": "code",
   "execution_count": 4,
   "metadata": {},
   "outputs": [],
   "source": [
    "X_train_dc = pd.read_pickle('pickles/X_train_dc.pkl')\n",
    "y_train_dc = pd.read_pickle('pickles/y_train_dc.pkl')\n",
    "X_test_dc = pd.read_pickle('pickles/X_test_dc.pkl')\n",
    "y_test_dc = pd.read_pickle('pickles/y_test_dc.pkl')\n",
    "\n",
    "X_train_l = pd.read_pickle('pickles/X_train_l.pkl')\n",
    "y_train_l = pd.read_pickle('pickles/y_train_l.pkl')\n",
    "X_test_l = pd.read_pickle('pickles/X_test_l.pkl')\n",
    "y_test_l = pd.read_pickle('pickles/y_test_l.pkl')"
   ]
  },
  {
   "cell_type": "markdown",
   "metadata": {},
   "source": [
    "Using Lasso Linear Regression."
   ]
  },
  {
   "cell_type": "code",
   "execution_count": 5,
   "metadata": {},
   "outputs": [
    {
     "name": "stdout",
     "output_type": "stream",
     "text": [
      "Selected Features: Index(['season', 'year', 'month', 'day', 'hour', 'weekday', 'precip', 'temp',\n",
      "       'humidity'],\n",
      "      dtype='object')\n"
     ]
    }
   ],
   "source": [
    "lasso_dc = Lasso()\n",
    "lasso_dc.fit(X_train_dc, y_train_dc)\n",
    "\n",
    "dc_selected = X_train_dc.columns[(lasso_dc.coef_ != 0)]\n",
    "print('Selected Features:', dc_selected)"
   ]
  },
  {
   "cell_type": "code",
   "execution_count": 6,
   "metadata": {},
   "outputs": [
    {
     "name": "stdout",
     "output_type": "stream",
     "text": [
      "Selected Features: Index(['season', 'year', 'month', 'day', 'hour', 'weekday', 'workingday',\n",
      "       'weather', 'precip', 'temp', 'humidity', 'windspeed'],\n",
      "      dtype='object')\n"
     ]
    }
   ],
   "source": [
    "lasso_l = Lasso()\n",
    "lasso_l.fit(X_train_l, y_train_l)\n",
    "\n",
    "l_selected = X_train_l.columns[(lasso_l.coef_ != 0)]\n",
    "print('Selected Features:', l_selected)"
   ]
  },
  {
   "cell_type": "markdown",
   "metadata": {},
   "source": [
    "The London dataset selects more features than the DC dataset using Lasso, also keeping `workingday`, `weather` and `windspeed`."
   ]
  },
  {
   "cell_type": "markdown",
   "metadata": {},
   "source": [
    "Using Forward Selection"
   ]
  },
  {
   "cell_type": "code",
   "execution_count": 15,
   "metadata": {},
   "outputs": [],
   "source": [
    "from feat_select_functions import forward_selection"
   ]
  },
  {
   "cell_type": "code",
   "execution_count": 10,
   "metadata": {},
   "outputs": [
    {
     "name": "stdout",
     "output_type": "stream",
     "text": [
      "Number selected: 11 \n",
      "Selected features: ['humidity', 'atemp', 'hour', 'year', 'season', 'precip', 'windspeed', 'weather', 'month', 'holiday', 'weekday']\n"
     ]
    }
   ],
   "source": [
    "dc_forward = forward_selection(X_train_dc,y_train_dc)\n",
    "print('Number selected:', len(dc_forward), '\\nSelected features:',dc_forward)"
   ]
  },
  {
   "cell_type": "code",
   "execution_count": 11,
   "metadata": {},
   "outputs": [
    {
     "name": "stdout",
     "output_type": "stream",
     "text": [
      "Number selected: 11 \n",
      "Selected features: ['humidity', 'temp', 'hour', 'workingday', 'precip', 'day', 'windspeed', 'atemp', 'season', 'month', 'weather']\n"
     ]
    }
   ],
   "source": [
    "l_forward = forward_selection(X_train_l,y_train_l)\n",
    "print('Number selected:', len(l_forward), '\\nSelected features:',l_forward)"
   ]
  },
  {
   "cell_type": "markdown",
   "metadata": {},
   "source": [
    "Using Backward Selection:"
   ]
  },
  {
   "cell_type": "code",
   "execution_count": 16,
   "metadata": {},
   "outputs": [],
   "source": [
    "from feat_select_functions import backward_selection"
   ]
  },
  {
   "cell_type": "code",
   "execution_count": 13,
   "metadata": {},
   "outputs": [
    {
     "name": "stdout",
     "output_type": "stream",
     "text": [
      "Number selected: 11 \n",
      "Selected features: ['season', 'year', 'month', 'hour', 'weekday', 'holiday', 'weather', 'precip', 'atemp', 'humidity', 'windspeed']\n"
     ]
    }
   ],
   "source": [
    "dc_backward = backward_selection(X_train_dc,y_train_dc)\n",
    "print('Number selected:', len(dc_backward), '\\nSelected features:',dc_backward)"
   ]
  },
  {
   "cell_type": "code",
   "execution_count": 14,
   "metadata": {},
   "outputs": [
    {
     "name": "stdout",
     "output_type": "stream",
     "text": [
      "Number selected: 11 \n",
      "Selected features: ['humidity', 'temp', 'hour', 'workingday', 'precip', 'day', 'windspeed', 'atemp', 'season', 'month', 'weather']\n"
     ]
    }
   ],
   "source": [
    "l_backward = backward_selection(X_train_l,y_train_l)\n",
    "print('Number selected:', len(l_forward), '\\nSelected features:',l_forward)"
   ]
  },
  {
   "cell_type": "markdown",
   "metadata": {},
   "source": [
    "Forward and backward selection have the same selected features, and as a result the same differences in selected features between the datasets.<p>\n",
    "Selected for both<ul>\n",
    "`season`<br>\n",
    "`month`<br>\n",
    "`hour`<br>\n",
    "`weather`<br>\n",
    "`precip`<br>\n",
    "`atemp`<br>\n",
    "`humidity`<br>\n",
    "`windspeed`</ul>\n",
    "\n",
    "Only for DC:<ul>\n",
    "`year`<br>\n",
    "`weekday`<br>\n",
    "`holiday`</ul>\n",
    "\n",
    "Only for London:<ul>\n",
    "`temp`<br>\n",
    "`workingday`<br>\n",
    "`day`</ul>\n",
    "\n",
    "Never selected:<ul> \n",
    "DC - `workingday`<p>\n",
    "London - `Holiday`"
   ]
  }
 ],
 "metadata": {
  "kernelspec": {
   "display_name": "base",
   "language": "python",
   "name": "python3"
  },
  "language_info": {
   "codemirror_mode": {
    "name": "ipython",
    "version": 3
   },
   "file_extension": ".py",
   "mimetype": "text/x-python",
   "name": "python",
   "nbconvert_exporter": "python",
   "pygments_lexer": "ipython3",
   "version": "3.12.3"
  }
 },
 "nbformat": 4,
 "nbformat_minor": 2
}
