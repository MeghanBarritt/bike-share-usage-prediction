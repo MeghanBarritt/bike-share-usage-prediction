{
 "cells": [
  {
   "cell_type": "markdown",
   "metadata": {},
   "source": [
    "# 6 - Tuned Models"
   ]
  },
  {
   "cell_type": "code",
   "execution_count": null,
   "metadata": {},
   "outputs": [],
   "source": [
    "import pandas as pd \n",
    "from xgboost import XGBRegressor\n",
    "from sklearn.metrics import r2_score, root_mean_squared_error"
   ]
  },
  {
   "cell_type": "markdown",
   "metadata": {},
   "source": [
    "I am manually copying the best parameters for each configuration as the `Hyperparameters` notebook takes a long time to run, and I want this to be more useable.<p>\n",
    "_(Note: XBGRegressor on my machine takes alpha and lambda as `reg_alpha` and `reg_lambda`, otherwise it doesn't recognize the variable.)_<p>\n",
    "_(Memo to me: the `X_train`s and `X_test`s change depending on what columns got dropped, but the target variable does not. It's always the same `y_train`s and `y_test`s.)_"
   ]
  },
  {
   "cell_type": "markdown",
   "metadata": {},
   "source": [
    "## Tuned with all features"
   ]
  },
  {
   "cell_type": "markdown",
   "metadata": {},
   "source": [
    "**DC set, all features parameters**:<br>\n",
    "alpha=0.1, lambda=100, learning_rate=0.3, max_depth=6, n_estimators=180, objective='reg:squarederror', random_state=42"
   ]
  },
  {
   "cell_type": "code",
   "execution_count": 2,
   "metadata": {},
   "outputs": [],
   "source": [
    "X_train_dc = pd.read_pickle('pickles/split/X_train_dc.pkl')\n",
    "X_test_dc = pd.read_pickle('pickles/split/X_test_dc.pkl')\n",
    "y_train_dc = pd.read_pickle('pickles/split/y_train_dc.pkl')\n",
    "y_test_dc = pd.read_pickle('pickles/split/y_test_dc.pkl')"
   ]
  },
  {
   "cell_type": "code",
   "execution_count": 3,
   "metadata": {},
   "outputs": [],
   "source": [
    "xgb_dc_allfeat = XGBRegressor(reg_alpha=0.1, reg_lambda=100, learning_rate=0.3, max_depth=6, n_estimators=180, objective='reg:squarederror', random_state=42)\n",
    "xgb_dc_allfeat.fit(X_train_dc,y_train_dc)\n",
    "\n",
    "dc_allfeat_pred = xgb_dc_allfeat.predict(X_test_dc)"
   ]
  },
  {
   "cell_type": "code",
   "execution_count": null,
   "metadata": {},
   "outputs": [],
   "source": [
    "dc_allfeat_rmse = root_mean_squared_error(y_test_dc, dc_allfeat_pred)\n",
    "dc_allfeat_r2 = r2_score(y_test_dc, dc_allfeat_pred)"
   ]
  },
  {
   "cell_type": "code",
   "execution_count": null,
   "metadata": {},
   "outputs": [
    {
     "name": "stdout",
     "output_type": "stream",
     "text": [
      "Root Mean Squared Error: 68.69202506023652 \n",
      "Mean Absolute Error: 44.30349447055229 \n",
      "R-Squared: 0.9029864072799683\n"
     ]
    }
   ],
   "source": [
    "print(f'Root Mean Squared Error: {dc_allfeat_rmse} \\nR-Squared: {dc_allfeat_r2}')"
   ]
  },
  {
   "cell_type": "markdown",
   "metadata": {},
   "source": [
    "**London set, all features parameters**:<br>\n",
    "alpha=0.75, lambda=125, learning_rate=0.3, max_depth=7, n_estimators=70, objective='reg:squarederror', random_state=42"
   ]
  },
  {
   "cell_type": "code",
   "execution_count": 6,
   "metadata": {},
   "outputs": [],
   "source": [
    "X_train_l = pd.read_pickle('pickles/split/X_train_l.pkl')\n",
    "X_test_l = pd.read_pickle('pickles/split/X_test_l.pkl')\n",
    "y_train_l = pd.read_pickle('pickles/split/y_train_l.pkl')\n",
    "y_test_l = pd.read_pickle('pickles/split/y_test_l.pkl')"
   ]
  },
  {
   "cell_type": "code",
   "execution_count": 7,
   "metadata": {},
   "outputs": [],
   "source": [
    "xgb_lond_allfeat = XGBRegressor(reg_alpha=0.75, reg_lambda=125, learning_rate=0.3, max_depth=7, n_estimators=70, objective='reg:squarederror', random_state=42)\n",
    "xgb_lond_allfeat.fit(X_train_l,y_train_l)\n",
    "\n",
    "l_allfeat_pred = xgb_lond_allfeat.predict(X_test_l)"
   ]
  },
  {
   "cell_type": "code",
   "execution_count": null,
   "metadata": {},
   "outputs": [],
   "source": [
    "l_allfeat_rmse = root_mean_squared_error(y_test_l,l_allfeat_pred)\n",
    "l_allfeat_r2 = r2_score(y_test_l,l_allfeat_pred)"
   ]
  },
  {
   "cell_type": "code",
   "execution_count": null,
   "metadata": {},
   "outputs": [
    {
     "name": "stdout",
     "output_type": "stream",
     "text": [
      "Root Mean Squared Error: 299.93461916669133 \n",
      "Mean Absolute Error: 177.2631608378057 \n",
      "R-Squared: 0.929388165473938\n"
     ]
    }
   ],
   "source": [
    "print(f'Root Mean Squared Error: {l_allfeat_rmse} \\nR-Squared: {l_allfeat_r2}')"
   ]
  },
  {
   "cell_type": "markdown",
   "metadata": {},
   "source": [
    "## Tuned with Forward/Backward Select Features"
   ]
  },
  {
   "cell_type": "markdown",
   "metadata": {},
   "source": [
    "**DC set, FwBw features parameters**:<br>\n",
    "alpha=0.8, lambda=50, learning_rate=0.2, max_depth=6, n_estimators=190, objective='reg:squarederror', random_state=42"
   ]
  },
  {
   "cell_type": "code",
   "execution_count": 10,
   "metadata": {},
   "outputs": [],
   "source": [
    "X_train_dc_fwbw = pd.read_pickle('pickles/split/fwbw/X_train_dc_fwbw.pkl')\n",
    "X_test_dc_fwbw = pd.read_pickle('pickles/split/fwbw/X_test_dc_fwbw.pkl')"
   ]
  },
  {
   "cell_type": "code",
   "execution_count": 11,
   "metadata": {},
   "outputs": [],
   "source": [
    "xgb_dc_fwbw = XGBRegressor(reg_alpha=0.8, reg_lambda=50, learning_rate=0.2, max_depth=6, n_estimators=190, objective='reg:squarederror', random_state=42)\n",
    "xgb_dc_fwbw.fit(X_train_dc_fwbw,y_train_dc)\n",
    "\n",
    "dc_fwbw_pred = xgb_dc_fwbw.predict(X_test_dc_fwbw)"
   ]
  },
  {
   "cell_type": "code",
   "execution_count": null,
   "metadata": {},
   "outputs": [],
   "source": [
    "dc_fwbw_rmse = root_mean_squared_error(y_test_dc,dc_fwbw_pred)\n",
    "dc_fwbw_r2 = r2_score(y_test_dc,dc_fwbw_pred)"
   ]
  },
  {
   "cell_type": "code",
   "execution_count": null,
   "metadata": {},
   "outputs": [
    {
     "name": "stdout",
     "output_type": "stream",
     "text": [
      "Root Mean Squared Error: 69.8046989290312 \n",
      "Mean Absolute Error: 45.48694607781405 \n",
      "R-Squared: 0.8998181223869324\n"
     ]
    }
   ],
   "source": [
    "print(f'Root Mean Squared Error: {dc_fwbw_rmse} \\nR-Squared: {dc_fwbw_r2}')"
   ]
  },
  {
   "cell_type": "markdown",
   "metadata": {},
   "source": [
    "**London set, FwBw features parameters**:<br>\n",
    "alpha=0.01, lambda=10, learning_rate=0.1, max_depth=6, n_estimators=150, objective='reg:squarederror', random_state=42"
   ]
  },
  {
   "cell_type": "code",
   "execution_count": 14,
   "metadata": {},
   "outputs": [],
   "source": [
    "X_train_l_fwbw = pd.read_pickle('pickles/split/fwbw/X_train_l_fwbw.pkl')\n",
    "X_test_l_fwbw = pd.read_pickle('pickles/split/fwbw/X_test_l_fwbw.pkl')"
   ]
  },
  {
   "cell_type": "code",
   "execution_count": 15,
   "metadata": {},
   "outputs": [],
   "source": [
    "xgb_lond_fwbw = XGBRegressor(reg_alpha=0.01, reg_lambda=10, learning_rate=0.1, max_depth=6, n_estimators=150, objective='reg:squarederror', random_state=42)\n",
    "xgb_lond_fwbw.fit(X_train_l_fwbw,y_train_l)\n",
    "\n",
    "l_fwbw_pred = xgb_lond_fwbw.predict(X_test_l_fwbw)"
   ]
  },
  {
   "cell_type": "code",
   "execution_count": null,
   "metadata": {},
   "outputs": [],
   "source": [
    "l_fwbw_rmse = root_mean_squared_error(y_test_l,l_fwbw_pred)\n",
    "l_fwbw_r2 = r2_score(y_test_l,l_fwbw_pred)"
   ]
  },
  {
   "cell_type": "code",
   "execution_count": null,
   "metadata": {},
   "outputs": [
    {
     "name": "stdout",
     "output_type": "stream",
     "text": [
      "Root Mean Squared Error: 287.48854568567185 \n",
      "Mean Absolute Error: 175.65939068362184 \n",
      "R-Squared: 0.935126781463623\n"
     ]
    }
   ],
   "source": [
    "print(f'Root Mean Squared Error: {l_fwbw_rmse} \\nR-Squared: {l_fwbw_r2}')"
   ]
  },
  {
   "cell_type": "markdown",
   "metadata": {},
   "source": [
    "## Tuned with Lasso Select Features"
   ]
  },
  {
   "cell_type": "markdown",
   "metadata": {},
   "source": [
    "**DC set, Lasso features parameters**:<br>\n",
    "alpha=1, lambda=130, learning_rate=0.2, max_depth=6, n_estimators=190, objective='reg:squarederror', random_state=42"
   ]
  },
  {
   "cell_type": "code",
   "execution_count": 18,
   "metadata": {},
   "outputs": [],
   "source": [
    "X_train_dc_lasso = pd.read_pickle('pickles/split/lasso/X_train_dc_lasso.pkl')\n",
    "X_test_dc_lasso = pd.read_pickle('pickles/split/lasso/X_test_dc_lasso.pkl')"
   ]
  },
  {
   "cell_type": "code",
   "execution_count": 19,
   "metadata": {},
   "outputs": [],
   "source": [
    "xgb_dc_lasso = XGBRegressor(reg_alpha=1, reg_lambda=130, learning_rate=0.2, max_depth=6, n_estimators=190, objective='reg:squarederror', random_state=42)\n",
    "xgb_dc_lasso.fit(X_train_dc_lasso,y_train_dc)\n",
    "\n",
    "dc_lasso_pred = xgb_dc_lasso.predict(X_test_dc_lasso)"
   ]
  },
  {
   "cell_type": "code",
   "execution_count": null,
   "metadata": {},
   "outputs": [],
   "source": [
    "dc_lasso_rmse = root_mean_squared_error(y_test_dc,dc_lasso_pred)\n",
    "dc_lasso_r2 = r2_score(y_test_dc,dc_lasso_pred)"
   ]
  },
  {
   "cell_type": "code",
   "execution_count": null,
   "metadata": {},
   "outputs": [
    {
     "name": "stdout",
     "output_type": "stream",
     "text": [
      "Root Mean Squared Error: 73.38944653955072 \n",
      "Mean Absolute Error: 46.943603485819494 \n",
      "R-Squared: 0.8892644643783569\n"
     ]
    }
   ],
   "source": [
    "print(f'Root Mean Squared Error: {dc_lasso_rmse} \\nR-Squared: {dc_lasso_r2}')"
   ]
  },
  {
   "cell_type": "markdown",
   "metadata": {},
   "source": [
    "**London set, Lasso features parameters**:<br>\n",
    "alpha=0.01, lambda=10, learning_rate=0.1, max_depth=6, n_estimators=160, objective='reg:squarederror', random_state=42"
   ]
  },
  {
   "cell_type": "code",
   "execution_count": 22,
   "metadata": {},
   "outputs": [],
   "source": [
    "X_train_l_lasso = pd.read_pickle('pickles/split/lasso/X_train_l_lasso.pkl')\n",
    "X_test_l_lasso = pd.read_pickle('pickles/split/lasso/X_test_l_lasso.pkl')"
   ]
  },
  {
   "cell_type": "code",
   "execution_count": 23,
   "metadata": {},
   "outputs": [],
   "source": [
    "xgb_lond_lasso = XGBRegressor(reg_alpha=0.01, reg_lambda=10, learning_rate=0.1, max_depth=6, n_estimators=160, objective='reg:squarederror', random_state=42)\n",
    "xgb_lond_lasso.fit(X_train_l_lasso,y_train_l)\n",
    "\n",
    "l_lasso_pred = xgb_lond_lasso.predict(X_test_l_lasso)"
   ]
  },
  {
   "cell_type": "code",
   "execution_count": null,
   "metadata": {},
   "outputs": [],
   "source": [
    "l_lasso_rmse = root_mean_squared_error(y_test_l,l_lasso_pred)\n",
    "l_lasso_r2 = r2_score(y_test_l,l_lasso_pred)"
   ]
  },
  {
   "cell_type": "code",
   "execution_count": null,
   "metadata": {},
   "outputs": [
    {
     "name": "stdout",
     "output_type": "stream",
     "text": [
      "Root Mean Squared Error: 286.0157863908551 \n",
      "Mean Absolute Error: 172.2289506503164 \n",
      "R-Squared: 0.9357897639274597\n"
     ]
    }
   ],
   "source": [
    "print(f'Root Mean Squared Error: {l_lasso_rmse} \\nR-Squared: {l_lasso_r2}')"
   ]
  },
  {
   "cell_type": "markdown",
   "metadata": {},
   "source": [
    "Compare"
   ]
  },
  {
   "cell_type": "code",
   "execution_count": 33,
   "metadata": {},
   "outputs": [
    {
     "name": "stdout",
     "output_type": "stream",
     "text": [
      "DC set RMSE values: \n",
      "  Basic model: 69.92294989890084 \n",
      "  Tuned all features: 68.69202506023652 \n",
      "  FwBw features: 69.8046989290312 \n",
      "  Lasso features: 73.38944653955072\n",
      "\n",
      "DC set R2 values: \n",
      "  Basic model: 0.8994784355163574 \n",
      "  Tuned all features: 0.9029864072799683 \n",
      "  FwBw features: 0.8998181223869324 \n",
      "  Lasso features: 0.8892644643783569\n",
      "\n",
      "\n",
      "London set RMSE values: \n",
      "  Basic model: 332.20786503370334 \n",
      "  Tuned all features: 299.93461916669133 \n",
      "  FwBw features: 287.48854568567185 \n",
      "  Lasso features: 286.0157863908551\n",
      "\n",
      "London set R2 values: \n",
      "  Basic model: 0.9133748412132263 \n",
      "  Tuned all features: 0.929388165473938 \n",
      "  FwBw features: 0.935126781463623 \n",
      "  Lasso features: 0.9357897639274597\n"
     ]
    }
   ],
   "source": [
    "print('DC set RMSE values: \\n  Basic model: 69.92294989890084 \\n  Tuned all features:',dc_allfeat_rmse,'\\n  FwBw features:',dc_fwbw_rmse,'\\n  Lasso features:',dc_lasso_rmse)\n",
    "print('\\nDC set R2 values: \\n  Basic model: 0.8994784355163574 \\n  Tuned all features:',dc_allfeat_r2,'\\n  FwBw features:',dc_fwbw_r2,'\\n  Lasso features:',dc_lasso_r2)\n",
    "print('\\n\\nLondon set RMSE values: \\n  Basic model: 332.20786503370334 \\n  Tuned all features:',l_allfeat_rmse,'\\n  FwBw features:',l_fwbw_rmse,'\\n  Lasso features:',l_lasso_rmse)\n",
    "print('\\nLondon set R2 values: \\n  Basic model: 0.9133748412132263 \\n  Tuned all features:',l_allfeat_r2,'\\n  FwBw features:',l_fwbw_r2,'\\n  Lasso features:',l_lasso_r2)"
   ]
  },
  {
   "cell_type": "markdown",
   "metadata": {},
   "source": [
    "With both sets, the difference between the three tuned models was very slight, and the difference between those and the basic model was _also_ very slight.<p>\n",
    "Both models have a high R2 score, so it seems that the models do a good job of accounting for the data. To get an idea of if the RMSE is in a decent range or not, we need to know the maximum values in each set. (The minimum is 0.) "
   ]
  },
  {
   "cell_type": "code",
   "execution_count": 51,
   "metadata": {},
   "outputs": [],
   "source": [
    "dc_data = pd.read_pickle('pickles/dc_data.pkl')\n",
    "london_data = pd.read_pickle('pickles/london_data.pkl')"
   ]
  },
  {
   "cell_type": "code",
   "execution_count": 52,
   "metadata": {},
   "outputs": [
    {
     "name": "stdout",
     "output_type": "stream",
     "text": [
      "DC count max: 977\n",
      "London count max: 7860\n"
     ]
    }
   ],
   "source": [
    "print('DC count max:',dc_data['count'].max())\n",
    "print('London count max:',london_data['count'].max())"
   ]
  },
  {
   "cell_type": "markdown",
   "metadata": {},
   "source": [
    "With those values, we can see how big an error the RMSE actually is compared to the highest value possible in the data. (I am using the highest, or worst, value here.)"
   ]
  },
  {
   "cell_type": "code",
   "execution_count": 67,
   "metadata": {},
   "outputs": [
    {
     "name": "stdout",
     "output_type": "stream",
     "text": [
      "DC set error %: 7.47\n",
      "London set error %: 4.22\n"
     ]
    }
   ],
   "source": [
    "print('DC set error %:',round(73/977*100,2))\n",
    "print('London set error %:',round(332/7860*100,2))"
   ]
  },
  {
   "cell_type": "markdown",
   "metadata": {},
   "source": [
    "Additionally, if we look at the standard deviations for each set - "
   ]
  },
  {
   "cell_type": "code",
   "execution_count": null,
   "metadata": {},
   "outputs": [
    {
     "name": "stdout",
     "output_type": "stream",
     "text": [
      "For DC's 'count':\n",
      " count    17544.000000\n",
      "mean       187.681202\n",
      "std        181.456478\n",
      "min          0.000000\n",
      "25%         38.000000\n",
      "50%        140.000000\n",
      "75%        279.000000\n",
      "max        977.000000\n",
      "Name: count, dtype: float64\n",
      "DC RMSE: ~73\n"
     ]
    }
   ],
   "source": [
    "print(\"For DC's 'count':\\n\",dc_data['count'].describe())\n",
    "print(\"DC's worst RMSE: ~73\")"
   ]
  },
  {
   "cell_type": "code",
   "execution_count": 69,
   "metadata": {},
   "outputs": [
    {
     "name": "stdout",
     "output_type": "stream",
     "text": [
      "For London's 'count':\n",
      " count    17520.000000\n",
      "mean      1136.185616\n",
      "std       1085.446245\n",
      "min          0.000000\n",
      "25%        245.000000\n",
      "50%        836.000000\n",
      "75%       1661.000000\n",
      "max       7860.000000\n",
      "Name: count, dtype: float64\n",
      "London's worst RMSE: ~332\n"
     ]
    }
   ],
   "source": [
    "print(\"For London's 'count':\\n\",london_data['count'].describe())\n",
    "print(\"London's worst RMSE: ~332\")"
   ]
  },
  {
   "cell_type": "markdown",
   "metadata": {},
   "source": [
    "In both cases, the RMSE is significantly lower than the standard deviation, so the model is accounting for a good portion of the variation occuring. "
   ]
  }
 ],
 "metadata": {
  "kernelspec": {
   "display_name": "base",
   "language": "python",
   "name": "python3"
  },
  "language_info": {
   "codemirror_mode": {
    "name": "ipython",
    "version": 3
   },
   "file_extension": ".py",
   "mimetype": "text/x-python",
   "name": "python",
   "nbconvert_exporter": "python",
   "pygments_lexer": "ipython3",
   "version": "3.12.3"
  }
 },
 "nbformat": 4,
 "nbformat_minor": 2
}
