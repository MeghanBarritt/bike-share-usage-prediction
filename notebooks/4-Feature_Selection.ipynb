{
 "cells": [
  {
   "cell_type": "markdown",
   "metadata": {},
   "source": [
    "# 4 - Feature Selection"
   ]
  },
  {
   "cell_type": "code",
   "execution_count": 31,
   "metadata": {},
   "outputs": [],
   "source": [
    "import pandas as pd\n",
    "from sklearn.linear_model import Lasso"
   ]
  },
  {
   "cell_type": "code",
   "execution_count": 32,
   "metadata": {},
   "outputs": [],
   "source": [
    "X_train_dc = pd.read_pickle('../pickles/split/X_train_dc.pkl')\n",
    "y_train_dc = pd.read_pickle('../pickles/split/y_train_dc.pkl')\n",
    "X_test_dc = pd.read_pickle('../pickles/split/X_test_dc.pkl')\n",
    "y_test_dc = pd.read_pickle('../pickles/split/y_test_dc.pkl')\n",
    "\n",
    "X_train_l = pd.read_pickle('../pickles/split/X_train_l.pkl')\n",
    "y_train_l = pd.read_pickle('../pickles/split/y_train_l.pkl')\n",
    "X_test_l = pd.read_pickle('../pickles/split/X_test_l.pkl')\n",
    "y_test_l = pd.read_pickle('../pickles/split/y_test_l.pkl')"
   ]
  },
  {
   "cell_type": "markdown",
   "metadata": {},
   "source": [
    "Using Lasso Linear Regression."
   ]
  },
  {
   "cell_type": "code",
   "execution_count": 33,
   "metadata": {},
   "outputs": [
    {
     "name": "stdout",
     "output_type": "stream",
     "text": [
      "Selected Features: Index(['season', 'year', 'month', 'day', 'hour', 'weekday', 'precip', 'temp',\n",
      "       'humidity'],\n",
      "      dtype='object')\n"
     ]
    }
   ],
   "source": [
    "lasso_dc = Lasso()\n",
    "lasso_dc.fit(X_train_dc, y_train_dc)\n",
    "\n",
    "dc_selected = X_train_dc.columns[(lasso_dc.coef_ != 0)]\n",
    "print('Selected Features:', dc_selected)"
   ]
  },
  {
   "cell_type": "code",
   "execution_count": 34,
   "metadata": {},
   "outputs": [
    {
     "name": "stdout",
     "output_type": "stream",
     "text": [
      "Selected Features: Index(['season', 'year', 'month', 'day', 'hour', 'weekday', 'workingday',\n",
      "       'weather', 'precip', 'temp', 'humidity', 'windspeed'],\n",
      "      dtype='object')\n"
     ]
    }
   ],
   "source": [
    "lasso_l = Lasso()\n",
    "lasso_l.fit(X_train_l, y_train_l)\n",
    "\n",
    "l_selected = X_train_l.columns[(lasso_l.coef_ != 0)]\n",
    "print('Selected Features:', l_selected)"
   ]
  },
  {
   "cell_type": "markdown",
   "metadata": {},
   "source": [
    "The London dataset selects more features than the DC dataset using Lasso, also keeping `workingday`, `weather` and `windspeed`."
   ]
  },
  {
   "cell_type": "markdown",
   "metadata": {},
   "source": [
    "Using Forward Selection"
   ]
  },
  {
   "cell_type": "code",
   "execution_count": 35,
   "metadata": {},
   "outputs": [],
   "source": [
    "from feat_select_functions import forward_selection"
   ]
  },
  {
   "cell_type": "code",
   "execution_count": 36,
   "metadata": {},
   "outputs": [
    {
     "name": "stdout",
     "output_type": "stream",
     "text": [
      "Number selected: 11 \n",
      "Selected features: ['atemp', 'humidity', 'hour', 'year', 'season', 'precip', 'windspeed', 'weather', 'month', 'holiday', 'weekday']\n"
     ]
    }
   ],
   "source": [
    "dc_forward = forward_selection(X_train_dc,y_train_dc)\n",
    "print('Number selected:', len(dc_forward), '\\nSelected features:',dc_forward)"
   ]
  },
  {
   "cell_type": "code",
   "execution_count": 37,
   "metadata": {},
   "outputs": [
    {
     "name": "stdout",
     "output_type": "stream",
     "text": [
      "Number selected: 11 \n",
      "Selected features: ['atemp', 'humidity', 'hour', 'workingday', 'precip', 'temp', 'windspeed', 'day', 'season', 'month', 'weather']\n"
     ]
    }
   ],
   "source": [
    "l_forward = forward_selection(X_train_l,y_train_l)\n",
    "print('Number selected:', len(l_forward), '\\nSelected features:',l_forward)"
   ]
  },
  {
   "cell_type": "markdown",
   "metadata": {},
   "source": [
    "Using Backward Selection:"
   ]
  },
  {
   "cell_type": "code",
   "execution_count": 38,
   "metadata": {},
   "outputs": [],
   "source": [
    "from feat_select_functions import backward_selection"
   ]
  },
  {
   "cell_type": "code",
   "execution_count": 39,
   "metadata": {},
   "outputs": [
    {
     "name": "stdout",
     "output_type": "stream",
     "text": [
      "Number selected: 11 \n",
      "Selected features: ['season', 'year', 'month', 'hour', 'weekday', 'holiday', 'weather', 'precip', 'atemp', 'humidity', 'windspeed']\n"
     ]
    }
   ],
   "source": [
    "dc_backward = backward_selection(X_train_dc,y_train_dc)\n",
    "print('Number selected:', len(dc_backward), '\\nSelected features:',dc_backward)"
   ]
  },
  {
   "cell_type": "code",
   "execution_count": 40,
   "metadata": {},
   "outputs": [
    {
     "name": "stdout",
     "output_type": "stream",
     "text": [
      "Number selected: 11 \n",
      "Selected features: ['season', 'month', 'day', 'hour', 'workingday', 'weather', 'precip', 'temp', 'atemp', 'humidity', 'windspeed']\n"
     ]
    }
   ],
   "source": [
    "l_backward = backward_selection(X_train_l,y_train_l)\n",
    "print('Number selected:', len(l_forward), '\\nSelected features:',l_backward)"
   ]
  },
  {
   "cell_type": "markdown",
   "metadata": {},
   "source": [
    "I'm curious to see how good of a model I can get based on different feature combinations, so I'm going to make new versions of each train and test set. One based on Lasso, and in the case of the DC set, one each for forward and backwards selection."
   ]
  },
  {
   "cell_type": "code",
   "execution_count": 41,
   "metadata": {},
   "outputs": [
    {
     "name": "stdout",
     "output_type": "stream",
     "text": [
      "['atemp', 'humidity', 'hour', 'workingday', 'precip', 'temp', 'windspeed', 'day', 'season', 'month', 'weather']\n",
      "['season', 'month', 'day', 'hour', 'workingday', 'weather', 'precip', 'temp', 'atemp', 'humidity', 'windspeed']\n",
      "-\n"
     ]
    }
   ],
   "source": [
    "print(l_forward)\n",
    "print(l_backward)\n",
    "for i in l_backward:\n",
    "    if i not in l_forward:\n",
    "        print(i)\n",
    "print('-')"
   ]
  },
  {
   "cell_type": "markdown",
   "metadata": {},
   "source": [
    "However, forward and backwards select chose identical features lists for the London dataset, so I am making one pair of sets for both of those with that dataset. "
   ]
  },
  {
   "cell_type": "code",
   "execution_count": 42,
   "metadata": {},
   "outputs": [],
   "source": [
    "# list of selected columns\n",
    "# lasso\n",
    "dc_lasso = dc_selected.to_list()\n",
    "lon_lasso = l_selected.to_list()"
   ]
  },
  {
   "cell_type": "code",
   "execution_count": 43,
   "metadata": {},
   "outputs": [],
   "source": [
    "# apply selected columns to trains and tests\n",
    "# lasso \n",
    "X_train_dc_lasso = X_train_dc[dc_lasso]\n",
    "X_test_dc_lasso = X_test_dc[dc_lasso]\n",
    "\n",
    "X_train_l_lasso = X_train_l[lon_lasso]\n",
    "X_test_l_lasso = X_test_l[lon_lasso]\n",
    "\n",
    "# forward select (DC)\n",
    "X_train_dc_fw = X_train_dc[dc_forward]\n",
    "X_test_dc_fw = X_test_dc[dc_forward]\n",
    "\n",
    "# backward select (DC)\n",
    "X_train_dc_bw = X_train_dc[dc_backward]\n",
    "X_test_dc_bw = X_test_dc[dc_backward]\n",
    "\n",
    "# FwBw select (London)\n",
    "X_train_l_fwbw = X_train_l[l_forward]\n",
    "X_test_l_fwbw = X_test_l[l_forward]"
   ]
  },
  {
   "cell_type": "markdown",
   "metadata": {},
   "source": [
    "Pickle the new trains and tests into their own folders."
   ]
  },
  {
   "cell_type": "code",
   "execution_count": 44,
   "metadata": {},
   "outputs": [],
   "source": [
    "# lasso \n",
    "X_train_dc_lasso.to_pickle('../pickles/split/feat-select/lasso/X_train_dc_lasso.pkl')\n",
    "X_test_dc_lasso.to_pickle('../pickles/split/feat-select/lasso/X_test_dc_lasso.pkl')\n",
    "X_train_l_lasso.to_pickle('../pickles/split/feat-select/lasso/X_train_l_lasso.pkl')\n",
    "X_test_l_lasso.to_pickle('../pickles/split/feat-select/lasso/X_test_l_lasso.pkl')\n",
    "\n",
    "# forward select (DC)\n",
    "X_train_dc_fw.to_pickle('../pickles/split/feat-select/forward/X_train_dc_fw.pkl')\n",
    "X_test_dc_fw.to_pickle('../pickles/split/feat-select/forward/X_test_dc_fw.pkl')\n",
    "\n",
    "#backward select (DC)\n",
    "X_train_dc_bw.to_pickle('../pickles/split/feat-select/backward/X_train_dc_bw.pkl')\n",
    "X_test_dc_bw.to_pickle('../pickles/split/feat-select/backward/X_test_dc_bw.pkl')\n",
    "\n",
    "# FwBw select (London)\n",
    "X_train_l_fwbw.to_pickle('../pickles/split/feat-select/fwbw/X_train_l_fwbw.pkl')\n",
    "X_test_l_fwbw.to_pickle('../pickles/split/feat-select/fwbw/X_test_l_fwbw.pkl')"
   ]
  }
 ],
 "metadata": {
  "kernelspec": {
   "display_name": "base",
   "language": "python",
   "name": "python3"
  },
  "language_info": {
   "codemirror_mode": {
    "name": "ipython",
    "version": 3
   },
   "file_extension": ".py",
   "mimetype": "text/x-python",
   "name": "python",
   "nbconvert_exporter": "python",
   "pygments_lexer": "ipython3",
   "version": "3.12.3"
  }
 },
 "nbformat": 4,
 "nbformat_minor": 2
}
