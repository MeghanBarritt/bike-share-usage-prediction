{
 "cells": [
  {
   "cell_type": "markdown",
   "metadata": {},
   "source": [
    "# 4 - Feature Selection"
   ]
  },
  {
   "cell_type": "code",
   "execution_count": 15,
   "metadata": {},
   "outputs": [],
   "source": [
    "import pandas as pd\n",
    "from sklearn.linear_model import Lasso\n",
    "import statsmodels.api as sm"
   ]
  },
  {
   "cell_type": "code",
   "execution_count": 16,
   "metadata": {},
   "outputs": [],
   "source": [
    "X_train_dc = pd.read_pickle('pickles/split/X_train_dc.pkl')\n",
    "y_train_dc = pd.read_pickle('pickles/split/y_train_dc.pkl')\n",
    "X_test_dc = pd.read_pickle('pickles/split/X_test_dc.pkl')\n",
    "y_test_dc = pd.read_pickle('pickles/split/y_test_dc.pkl')\n",
    "\n",
    "X_train_l = pd.read_pickle('pickles/split/X_train_l.pkl')\n",
    "y_train_l = pd.read_pickle('pickles/split/y_train_l.pkl')\n",
    "X_test_l = pd.read_pickle('pickles/split/X_test_l.pkl')\n",
    "y_test_l = pd.read_pickle('pickles/split/y_test_l.pkl')"
   ]
  },
  {
   "cell_type": "markdown",
   "metadata": {},
   "source": [
    "Using Lasso Linear Regression."
   ]
  },
  {
   "cell_type": "code",
   "execution_count": 17,
   "metadata": {},
   "outputs": [
    {
     "name": "stdout",
     "output_type": "stream",
     "text": [
      "Selected Features: Index(['season', 'year', 'month', 'day', 'hour', 'weekday', 'precip', 'temp',\n",
      "       'humidity'],\n",
      "      dtype='object')\n"
     ]
    }
   ],
   "source": [
    "lasso_dc = Lasso()\n",
    "lasso_dc.fit(X_train_dc, y_train_dc)\n",
    "\n",
    "dc_selected = X_train_dc.columns[(lasso_dc.coef_ != 0)]\n",
    "print('Selected Features:', dc_selected)"
   ]
  },
  {
   "cell_type": "code",
   "execution_count": 18,
   "metadata": {},
   "outputs": [
    {
     "name": "stdout",
     "output_type": "stream",
     "text": [
      "Selected Features: Index(['season', 'year', 'month', 'day', 'hour', 'weekday', 'workingday',\n",
      "       'weather', 'precip', 'temp', 'humidity', 'windspeed'],\n",
      "      dtype='object')\n"
     ]
    }
   ],
   "source": [
    "lasso_l = Lasso()\n",
    "lasso_l.fit(X_train_l, y_train_l)\n",
    "\n",
    "l_selected = X_train_l.columns[(lasso_l.coef_ != 0)]\n",
    "print('Selected Features:', l_selected)"
   ]
  },
  {
   "cell_type": "markdown",
   "metadata": {},
   "source": [
    "The London dataset selects more features than the DC dataset using Lasso, also keeping `workingday`, `weather` and `windspeed`."
   ]
  },
  {
   "cell_type": "markdown",
   "metadata": {},
   "source": [
    "Using Forward Selection"
   ]
  },
  {
   "cell_type": "code",
   "execution_count": 19,
   "metadata": {},
   "outputs": [],
   "source": [
    "from feat_select_functions import forward_selection"
   ]
  },
  {
   "cell_type": "code",
   "execution_count": 20,
   "metadata": {},
   "outputs": [
    {
     "name": "stdout",
     "output_type": "stream",
     "text": [
      "Number selected: 12 \n",
      "Selected features: ['temp', 'humidity', 'hour', 'year', 'month', 'precip', 'holiday', 'weather', 'season', 'atemp', 'windspeed', 'weekday']\n"
     ]
    }
   ],
   "source": [
    "dc_forward = forward_selection(X_train_dc,y_train_dc)\n",
    "print('Number selected:', len(dc_forward), '\\nSelected features:',dc_forward)"
   ]
  },
  {
   "cell_type": "code",
   "execution_count": 21,
   "metadata": {},
   "outputs": [
    {
     "name": "stdout",
     "output_type": "stream",
     "text": [
      "Number selected: 11 \n",
      "Selected features: ['temp', 'humidity', 'hour', 'workingday', 'precip', 'day', 'windspeed', 'atemp', 'season', 'month', 'weather']\n"
     ]
    }
   ],
   "source": [
    "l_forward = forward_selection(X_train_l,y_train_l)\n",
    "print('Number selected:', len(l_forward), '\\nSelected features:',l_forward)"
   ]
  },
  {
   "cell_type": "markdown",
   "metadata": {},
   "source": [
    "Using Backward Selection:"
   ]
  },
  {
   "cell_type": "code",
   "execution_count": 22,
   "metadata": {},
   "outputs": [],
   "source": [
    "from feat_select_functions import backward_selection"
   ]
  },
  {
   "cell_type": "code",
   "execution_count": 23,
   "metadata": {},
   "outputs": [
    {
     "name": "stdout",
     "output_type": "stream",
     "text": [
      "Number selected: 11 \n",
      "Selected features: ['season', 'year', 'month', 'hour', 'weekday', 'holiday', 'weather', 'precip', 'atemp', 'humidity', 'windspeed']\n"
     ]
    }
   ],
   "source": [
    "dc_backward = backward_selection(X_train_dc,y_train_dc)\n",
    "print('Number selected:', len(dc_backward), '\\nSelected features:',dc_backward)"
   ]
  },
  {
   "cell_type": "code",
   "execution_count": 24,
   "metadata": {},
   "outputs": [
    {
     "name": "stdout",
     "output_type": "stream",
     "text": [
      "Number selected: 11 \n",
      "Selected features: ['temp', 'humidity', 'hour', 'workingday', 'precip', 'day', 'windspeed', 'atemp', 'season', 'month', 'weather']\n"
     ]
    }
   ],
   "source": [
    "l_backward = backward_selection(X_train_l,y_train_l)\n",
    "print('Number selected:', len(l_forward), '\\nSelected features:',l_forward)"
   ]
  },
  {
   "cell_type": "markdown",
   "metadata": {},
   "source": [
    "Forward and backward selection have the same selected features, and as a result the same differences in selected features between the datasets.<p>\n",
    "Selected for both<ul>\n",
    "`season`<br>\n",
    "`month`<br>\n",
    "`hour`<br>\n",
    "`weather`<br>\n",
    "`precip`<br>\n",
    "`atemp`<br>\n",
    "`humidity`<br>\n",
    "`windspeed`</ul>\n",
    "\n",
    "Only for DC:<ul>\n",
    "`year`<br>\n",
    "`weekday`<br>\n",
    "`holiday`</ul>\n",
    "\n",
    "Only for London:<ul>\n",
    "`temp`<br>\n",
    "`workingday`<br>\n",
    "`day`</ul>\n",
    "\n",
    "Never selected:<ul> \n",
    "DC - `workingday`<p>\n",
    "London - `Holiday`"
   ]
  },
  {
   "cell_type": "markdown",
   "metadata": {},
   "source": [
    "I'm curious to see how good of a model I can get based on different feature combinations, so I'm going to make two more versions of each set; one based on Lasso and one based on forward/backward selection (since they chose the same features for each dataset.)"
   ]
  },
  {
   "cell_type": "code",
   "execution_count": 25,
   "metadata": {},
   "outputs": [],
   "source": [
    "# list of selected columns\n",
    "dc_lasso = dc_selected.to_list()\n",
    "lon_lasso = l_selected.to_list()"
   ]
  },
  {
   "cell_type": "code",
   "execution_count": 26,
   "metadata": {},
   "outputs": [],
   "source": [
    "# apply selected columns to trains and tests\n",
    "X_train_dc_lasso = X_train_dc[dc_lasso]\n",
    "X_test_dc_lasso = X_test_dc[dc_lasso]\n",
    "\n",
    "X_train_l_lasso = X_train_l[lon_lasso]\n",
    "X_test_l_lasso = X_test_l[lon_lasso]"
   ]
  },
  {
   "cell_type": "markdown",
   "metadata": {},
   "source": [
    "For the FwBw selection, each dataset had one feature that was not selected, so only that will be dropped. "
   ]
  },
  {
   "cell_type": "code",
   "execution_count": 27,
   "metadata": {},
   "outputs": [],
   "source": [
    "X_train_dc_fwbw = X_train_dc.drop('workingday',axis=1)\n",
    "X_test_dc_fwbw = X_test_dc.drop('workingday',axis=1)\n",
    "\n",
    "X_train_l_fwbw = X_train_l.drop('holiday',axis=1)\n",
    "X_test_l_fwbw = X_test_l.drop('holiday',axis=1)"
   ]
  },
  {
   "cell_type": "markdown",
   "metadata": {},
   "source": [
    "Pickle the new trains and tests into their own folders."
   ]
  },
  {
   "cell_type": "code",
   "execution_count": 28,
   "metadata": {},
   "outputs": [],
   "source": [
    "# lasso selected\n",
    "X_train_dc_lasso.to_pickle('pickles/split/lasso/X_train_dc_lasso.pkl')\n",
    "X_test_dc_lasso.to_pickle('pickles/split/lasso/X_test_dc_lasso.pkl')\n",
    "X_train_l_lasso.to_pickle('pickles/split/lasso/X_train_l_lasso.pkl')\n",
    "X_test_l_lasso.to_pickle('pickles/split/lasso/X_test_l_lasso.pkl')\n",
    "\n",
    "# forward/backward selected\n",
    "X_train_dc_fwbw.to_pickle('pickles/split/fwbw/X_train_dc_fwbw.pkl')\n",
    "X_test_dc_fwbw.to_pickle('pickles/split/fwbw/X_test_dc_fwbw.pkl')\n",
    "X_train_l_fwbw.to_pickle('pickles/split/fwbw/X_train_l_fwbw.pkl')\n",
    "X_test_l_fwbw.to_pickle('pickles/split/fwbw/X_test_l_fwbw.pkl')"
   ]
  }
 ],
 "metadata": {
  "kernelspec": {
   "display_name": "base",
   "language": "python",
   "name": "python3"
  },
  "language_info": {
   "codemirror_mode": {
    "name": "ipython",
    "version": 3
   },
   "file_extension": ".py",
   "mimetype": "text/x-python",
   "name": "python",
   "nbconvert_exporter": "python",
   "pygments_lexer": "ipython3",
   "version": "3.12.3"
  }
 },
 "nbformat": 4,
 "nbformat_minor": 2
}
