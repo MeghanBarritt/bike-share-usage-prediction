{
 "cells": [
  {
   "cell_type": "markdown",
   "metadata": {},
   "source": [
    "# 6 - Pipelines"
   ]
  },
  {
   "cell_type": "code",
   "execution_count": 101,
   "metadata": {},
   "outputs": [],
   "source": [
    "import pandas as pd\n",
    "from sklearn.base import BaseEstimator, TransformerMixin\n",
    "from sklearn.pipeline import Pipeline\n",
    "from pipeline_functions import *"
   ]
  },
  {
   "cell_type": "markdown",
   "metadata": {},
   "source": [
    "### DC Dataset"
   ]
  },
  {
   "cell_type": "code",
   "execution_count": 102,
   "metadata": {},
   "outputs": [],
   "source": [
    "dc_hour = pd.read_csv('dc-data/hour.csv')\n",
    "dc_day = pd.read_csv('dc-data/day.csv')"
   ]
  },
  {
   "cell_type": "markdown",
   "metadata": {},
   "source": [
    "Starting with renaming the columns so that functions based on column name will be reusable."
   ]
  },
  {
   "cell_type": "code",
   "execution_count": 103,
   "metadata": {},
   "outputs": [],
   "source": [
    "class RenameColDC(BaseEstimator, TransformerMixin):\n",
    "    def __init__(self):\n",
    "        self.name_map = {'dteday':'date','yr':'year','mnth':'month','hr':'hour',\n",
    "        'weathersit':'weather','hum':'humidity','cnt':'count'}\n",
    "    def fit(self, X, y=None):\n",
    "        return self\n",
    "    \n",
    "    def transform(self, X):\n",
    "        X = X.rename(columns=self.name_map)\n",
    "        \n",
    "        return X"
   ]
  },
  {
   "cell_type": "markdown",
   "metadata": {},
   "source": [
    "Fill in hours. Because the `date` columns have different contents (the DC set has no times), each dataset needs its own version of this operation. "
   ]
  },
  {
   "cell_type": "code",
   "execution_count": 104,
   "metadata": {},
   "outputs": [],
   "source": [
    "class FillHoursDC(BaseEstimator, TransformerMixin):\n",
    "    def fit(self, X, y=None):\n",
    "        return self\n",
    "    \n",
    "    def transform(self, X):\n",
    "        return fill_hours_dc(X)"
   ]
  },
  {
   "cell_type": "markdown",
   "metadata": {},
   "source": [
    "Filling values that are identical within each day."
   ]
  },
  {
   "cell_type": "code",
   "execution_count": 105,
   "metadata": {},
   "outputs": [],
   "source": [
    "class FillWMeans(BaseEstimator, TransformerMixin):\n",
    "    def fit(self, X, y=None):\n",
    "        return self\n",
    "    \n",
    "    def transform(self, X):\n",
    "        if 'season' in X.columns and 'date' in X.columns:\n",
    "            X.loc[:,'season'] = X.groupby('date')['season'].transform(\n",
    "                lambda x: x.fillna(x.mean()))\n",
    "            \n",
    "        if 'year' in X.columns and 'date' in X.columns:\n",
    "            X.loc[:,'year'] = X.groupby('date')['year'].transform(\n",
    "                lambda x: x.fillna(x.mean()))\n",
    "            \n",
    "        if 'month' in X.columns and 'date' in X.columns:\n",
    "            X.loc[:,'month'] = X.groupby('date')['month'].transform(\n",
    "                lambda x: x.fillna(x.mean()))\n",
    "            \n",
    "        if 'holiday' in X.columns and 'date' in X.columns:\n",
    "            X.loc[:,'holiday'] = X.groupby('date')['holiday'].transform(\n",
    "                lambda x: x.fillna(x.mean()))\n",
    "            \n",
    "        if 'weekday' in X.columns and 'date' in X.columns:\n",
    "            X.loc[:,'weekday'] = X.groupby('date')['weekday'].transform(\n",
    "                lambda x: x.fillna(x.mean()))\n",
    "            \n",
    "        if 'workingday' in X.columns and 'date' in X.columns:\n",
    "            X.loc[:,'workingday'] = X.groupby('date')['workingday'].transform(\n",
    "                lambda x: x.fillna(x.mean()))\n",
    "            \n",
    "        return X"
   ]
  },
  {
   "cell_type": "markdown",
   "metadata": {},
   "source": [
    "Filling values that move throughout the day."
   ]
  },
  {
   "cell_type": "code",
   "execution_count": 106,
   "metadata": {},
   "outputs": [],
   "source": [
    "class FillWInterpolate(BaseEstimator, TransformerMixin):\n",
    "    def fit(self, X, y=None):\n",
    "        return self\n",
    "    \n",
    "    def transform(self, X):\n",
    "        X.loc[:,'temp'] = X['temp'].interpolate(method='linear', limit_direction='both').round(2)\n",
    "        X.loc[:,'atemp'] = X['atemp'].interpolate(method='linear', limit_direction='both').round(4)\n",
    "        X.loc[:,'humidity'] = X['humidity'].interpolate(method='linear', limit_direction='both').round(2)\n",
    "        X.loc[:,'windspeed'] = X['windspeed'].interpolate(method='linear', limit_direction='both').round(4)\n",
    "\n",
    "        return X"
   ]
  },
  {
   "cell_type": "markdown",
   "metadata": {},
   "source": [
    "Convert `date` column to `datetime` for compatibility with later functions."
   ]
  },
  {
   "cell_type": "code",
   "execution_count": 107,
   "metadata": {},
   "outputs": [],
   "source": [
    "class DateTimeConverter(BaseEstimator, TransformerMixin):\n",
    "    def __init__(self, column_name):\n",
    "        self.column_name = column_name\n",
    "\n",
    "    def fit(self, X, y=None):\n",
    "        return self\n",
    "\n",
    "    def transform(self, X):\n",
    "        # Convert the specified column to datetime\n",
    "        X[self.column_name] = pd.to_datetime(X[self.column_name], errors='coerce')\n",
    "        return X"
   ]
  },
  {
   "cell_type": "markdown",
   "metadata": {},
   "source": [
    "Merge in `weather` column from `dc_day` table. (Info about the table being merged must be specified within the pipeline.)"
   ]
  },
  {
   "cell_type": "code",
   "execution_count": 108,
   "metadata": {},
   "outputs": [],
   "source": [
    "class MergeDataDC(BaseEstimator, TransformerMixin):\n",
    "    def __init__(self, merge_df, on_column='date', how='left'):\n",
    "        self.merge_df = merge_df\n",
    "        self.merge_df.rename(columns={'dteday': 'date', 'weathersit': 'weather'}, inplace=True)\n",
    "        self.on_column = on_column\n",
    "        self.how = how\n",
    "\n",
    "    def fit(self, X, y=None):\n",
    "        return self\n",
    "\n",
    "    def transform(self, X):\n",
    "        # Convert the 'dteday' column in both DataFrames to datetime if not already\n",
    "        X[self.on_column] = pd.to_datetime(X[self.on_column], errors='coerce')\n",
    "        self.merge_df[self.on_column] = pd.to_datetime(self.merge_df[self.on_column], errors='coerce')\n",
    "        \n",
    "        # Perform the merge\n",
    "        X = X.merge(self.merge_df[[self.on_column, 'weather']], on=self.on_column, how=self.how)\n",
    "        return X"
   ]
  },
  {
   "cell_type": "markdown",
   "metadata": {},
   "source": [
    "Fill in missing `weather` values."
   ]
  },
  {
   "cell_type": "code",
   "execution_count": 109,
   "metadata": {},
   "outputs": [],
   "source": [
    "class FillWeatherValueDC(BaseEstimator, TransformerMixin):\n",
    "    def fit(self, X, y=None):\n",
    "        return self\n",
    "\n",
    "    def transform(self, X):\n",
    "        X['weather_x'] = X['weather_x'].fillna(X['weather_y'])\n",
    "        return X"
   ]
  },
  {
   "cell_type": "markdown",
   "metadata": {},
   "source": [
    "Create `precip` column. Because the merge renames the `weather` column, this function is not reusable. (Also renames `weather_x` back to 'weather'.)"
   ]
  },
  {
   "cell_type": "code",
   "execution_count": 110,
   "metadata": {},
   "outputs": [],
   "source": [
    "class PrecipMappingDC(BaseEstimator, TransformerMixin):\n",
    "    def __init__(self):\n",
    "        self.precip_map = {1: 0, 2: 0, 3: 1, 4: 1}\n",
    "        self.name_map = {'weather_x': 'weather'}\n",
    "\n",
    "    def fit(self, X, y=None):\n",
    "        return self\n",
    "\n",
    "    def transform(self, X):\n",
    "        X['precip'] = X['weather_x'].map(self.precip_map)\n",
    "        X = X.rename(columns=self.name_map)\n",
    "        return X"
   ]
  },
  {
   "cell_type": "markdown",
   "metadata": {},
   "source": [
    "Get `day` out of `date`."
   ]
  },
  {
   "cell_type": "code",
   "execution_count": 111,
   "metadata": {},
   "outputs": [],
   "source": [
    "class GetDay(BaseEstimator, TransformerMixin):\n",
    "    def fit(self, X, y=None):\n",
    "        return self\n",
    "    \n",
    "    def transform(self, X):\n",
    "        X['day'] = X['date'].apply(lambda x: get_day(x))\n",
    "        return X"
   ]
  },
  {
   "cell_type": "markdown",
   "metadata": {},
   "source": [
    "Set non-float columns to `int`, reorder columns the way I like them."
   ]
  },
  {
   "cell_type": "code",
   "execution_count": 112,
   "metadata": {},
   "outputs": [],
   "source": [
    "class SetIntReorder(BaseEstimator, TransformerMixin):\n",
    "    def __init__(self):\n",
    "        self.col_list = ['season','year','month','holiday','weekday','workingday','weather','count']\n",
    "        self.col_order = ['date','season','year','month','day','hour','weekday','holiday',\n",
    "            'workingday','weather','precip','temp','atemp','humidity','windspeed','count']\n",
    "    \n",
    "    def fit(self, X, y=None):\n",
    "        return self\n",
    "    \n",
    "    def transform(self, X):\n",
    "        X[self.col_list] = X[self.col_list].astype(int)\n",
    "        X = X[self.col_order]\n",
    "\n",
    "        return X"
   ]
  },
  {
   "cell_type": "markdown",
   "metadata": {},
   "source": [
    "Set `date` as the index."
   ]
  },
  {
   "cell_type": "code",
   "execution_count": 113,
   "metadata": {},
   "outputs": [],
   "source": [
    "class SetIndexDate(BaseEstimator, TransformerMixin):\n",
    "    def fit(self, X, y=None):\n",
    "        return self\n",
    "    \n",
    "    def transform(self, X):\n",
    "        X = X.set_index('date')\n",
    "        return X"
   ]
  },
  {
   "cell_type": "markdown",
   "metadata": {},
   "source": [
    "Assemble the pipeline:"
   ]
  },
  {
   "cell_type": "code",
   "execution_count": 114,
   "metadata": {},
   "outputs": [],
   "source": [
    "dc_pipe = Pipeline([\n",
    "('rename_DC', RenameColDC()),\n",
    "('fill_hours', FillHoursDC()),\n",
    "('fill_w_means', FillWMeans()),\n",
    "('fill_interpolate', FillWInterpolate()),\n",
    "('datetime_convert', DateTimeConverter('date')),\n",
    "('merge_data', MergeDataDC(dc_day, on_column='date', how='left')),\n",
    "('fill_weather', FillWeatherValueDC()),\n",
    "('precip_mapping', PrecipMappingDC()),\n",
    "('get_day', GetDay()),\n",
    "('set_int_reorder', SetIntReorder()),\n",
    "('set_index_date', SetIndexDate()),])"
   ]
  },
  {
   "cell_type": "code",
   "execution_count": 115,
   "metadata": {},
   "outputs": [],
   "source": [
    "dc_data = dc_pipe.fit_transform(dc_hour)"
   ]
  },
  {
   "cell_type": "code",
   "execution_count": 116,
   "metadata": {},
   "outputs": [
    {
     "data": {
      "text/plain": [
       "(17544, 15)"
      ]
     },
     "metadata": {},
     "output_type": "display_data"
    },
    {
     "data": {
      "text/html": [
       "<div>\n",
       "<style scoped>\n",
       "    .dataframe tbody tr th:only-of-type {\n",
       "        vertical-align: middle;\n",
       "    }\n",
       "\n",
       "    .dataframe tbody tr th {\n",
       "        vertical-align: top;\n",
       "    }\n",
       "\n",
       "    .dataframe thead th {\n",
       "        text-align: right;\n",
       "    }\n",
       "</style>\n",
       "<table border=\"1\" class=\"dataframe\">\n",
       "  <thead>\n",
       "    <tr style=\"text-align: right;\">\n",
       "      <th></th>\n",
       "      <th>season</th>\n",
       "      <th>year</th>\n",
       "      <th>month</th>\n",
       "      <th>day</th>\n",
       "      <th>hour</th>\n",
       "      <th>weekday</th>\n",
       "      <th>holiday</th>\n",
       "      <th>workingday</th>\n",
       "      <th>weather</th>\n",
       "      <th>precip</th>\n",
       "      <th>temp</th>\n",
       "      <th>atemp</th>\n",
       "      <th>humidity</th>\n",
       "      <th>windspeed</th>\n",
       "      <th>count</th>\n",
       "    </tr>\n",
       "    <tr>\n",
       "      <th>date</th>\n",
       "      <th></th>\n",
       "      <th></th>\n",
       "      <th></th>\n",
       "      <th></th>\n",
       "      <th></th>\n",
       "      <th></th>\n",
       "      <th></th>\n",
       "      <th></th>\n",
       "      <th></th>\n",
       "      <th></th>\n",
       "      <th></th>\n",
       "      <th></th>\n",
       "      <th></th>\n",
       "      <th></th>\n",
       "      <th></th>\n",
       "    </tr>\n",
       "  </thead>\n",
       "  <tbody>\n",
       "    <tr>\n",
       "      <th>2011-01-01</th>\n",
       "      <td>1</td>\n",
       "      <td>0</td>\n",
       "      <td>1</td>\n",
       "      <td>1</td>\n",
       "      <td>0</td>\n",
       "      <td>6</td>\n",
       "      <td>0</td>\n",
       "      <td>0</td>\n",
       "      <td>1</td>\n",
       "      <td>0</td>\n",
       "      <td>0.24</td>\n",
       "      <td>0.2879</td>\n",
       "      <td>0.81</td>\n",
       "      <td>0.0</td>\n",
       "      <td>16</td>\n",
       "    </tr>\n",
       "    <tr>\n",
       "      <th>2011-01-01</th>\n",
       "      <td>1</td>\n",
       "      <td>0</td>\n",
       "      <td>1</td>\n",
       "      <td>1</td>\n",
       "      <td>1</td>\n",
       "      <td>6</td>\n",
       "      <td>0</td>\n",
       "      <td>0</td>\n",
       "      <td>1</td>\n",
       "      <td>0</td>\n",
       "      <td>0.22</td>\n",
       "      <td>0.2727</td>\n",
       "      <td>0.80</td>\n",
       "      <td>0.0</td>\n",
       "      <td>40</td>\n",
       "    </tr>\n",
       "    <tr>\n",
       "      <th>2011-01-01</th>\n",
       "      <td>1</td>\n",
       "      <td>0</td>\n",
       "      <td>1</td>\n",
       "      <td>1</td>\n",
       "      <td>2</td>\n",
       "      <td>6</td>\n",
       "      <td>0</td>\n",
       "      <td>0</td>\n",
       "      <td>1</td>\n",
       "      <td>0</td>\n",
       "      <td>0.22</td>\n",
       "      <td>0.2727</td>\n",
       "      <td>0.80</td>\n",
       "      <td>0.0</td>\n",
       "      <td>32</td>\n",
       "    </tr>\n",
       "    <tr>\n",
       "      <th>2011-01-01</th>\n",
       "      <td>1</td>\n",
       "      <td>0</td>\n",
       "      <td>1</td>\n",
       "      <td>1</td>\n",
       "      <td>3</td>\n",
       "      <td>6</td>\n",
       "      <td>0</td>\n",
       "      <td>0</td>\n",
       "      <td>1</td>\n",
       "      <td>0</td>\n",
       "      <td>0.24</td>\n",
       "      <td>0.2879</td>\n",
       "      <td>0.75</td>\n",
       "      <td>0.0</td>\n",
       "      <td>13</td>\n",
       "    </tr>\n",
       "    <tr>\n",
       "      <th>2011-01-01</th>\n",
       "      <td>1</td>\n",
       "      <td>0</td>\n",
       "      <td>1</td>\n",
       "      <td>1</td>\n",
       "      <td>4</td>\n",
       "      <td>6</td>\n",
       "      <td>0</td>\n",
       "      <td>0</td>\n",
       "      <td>1</td>\n",
       "      <td>0</td>\n",
       "      <td>0.24</td>\n",
       "      <td>0.2879</td>\n",
       "      <td>0.75</td>\n",
       "      <td>0.0</td>\n",
       "      <td>1</td>\n",
       "    </tr>\n",
       "  </tbody>\n",
       "</table>\n",
       "</div>"
      ],
      "text/plain": [
       "            season  year  month  day  hour  weekday  holiday  workingday  \\\n",
       "date                                                                       \n",
       "2011-01-01       1     0      1    1     0        6        0           0   \n",
       "2011-01-01       1     0      1    1     1        6        0           0   \n",
       "2011-01-01       1     0      1    1     2        6        0           0   \n",
       "2011-01-01       1     0      1    1     3        6        0           0   \n",
       "2011-01-01       1     0      1    1     4        6        0           0   \n",
       "\n",
       "            weather  precip  temp   atemp  humidity  windspeed  count  \n",
       "date                                                                   \n",
       "2011-01-01        1       0  0.24  0.2879      0.81        0.0     16  \n",
       "2011-01-01        1       0  0.22  0.2727      0.80        0.0     40  \n",
       "2011-01-01        1       0  0.22  0.2727      0.80        0.0     32  \n",
       "2011-01-01        1       0  0.24  0.2879      0.75        0.0     13  \n",
       "2011-01-01        1       0  0.24  0.2879      0.75        0.0      1  "
      ]
     },
     "execution_count": 116,
     "metadata": {},
     "output_type": "execute_result"
    }
   ],
   "source": [
    "display(dc_data.shape)\n",
    "dc_data.head()"
   ]
  },
  {
   "cell_type": "markdown",
   "metadata": {},
   "source": [
    "### London Dataset"
   ]
  },
  {
   "cell_type": "code",
   "execution_count": 117,
   "metadata": {},
   "outputs": [],
   "source": [
    "london = pd.read_csv('london-data/london_merged.csv')"
   ]
  },
  {
   "cell_type": "markdown",
   "metadata": {},
   "source": [
    "Start with renaming the columns this time as well."
   ]
  },
  {
   "cell_type": "code",
   "execution_count": 118,
   "metadata": {},
   "outputs": [],
   "source": [
    "class RenameColLond(BaseEstimator, TransformerMixin):\n",
    "    def __init__(self):\n",
    "        self.name_map = {'cnt':'count','t1':'temp','t2':'atemp','hum':'humidity',\n",
    "        'wind_speed':'windspeed','weather_code':'weather','is_holiday':'holiday',\n",
    "        'timestamp':'date'}\n",
    "\n",
    "    def fit(self, X, y=None):\n",
    "        return self\n",
    "    \n",
    "    def transform(self, X):\n",
    "        X = X.rename(columns=self.name_map)\n",
    "        \n",
    "        return X"
   ]
  },
  {
   "cell_type": "markdown",
   "metadata": {},
   "source": [
    "Create ` workingday` column. It will end up with missing values when missing hours are filled, but it is already part of the `FillWMeans` function."
   ]
  },
  {
   "cell_type": "code",
   "execution_count": 119,
   "metadata": {},
   "outputs": [],
   "source": [
    "class MakeWorkingDayLond(BaseEstimator, TransformerMixin):\n",
    "    def fit(self, X, y=None):\n",
    "        return self\n",
    "    \n",
    "    def transform(self, X):\n",
    "        X['workingday'] = 1\n",
    "        \n",
    "        # Assign 0 in appropriate rows based on holiday or weekend conditions\n",
    "        X.loc[((X['holiday'] == 1.0) | (X['is_weekend'] == 1.0)), 'workingday'] = 0\n",
    "        \n",
    "        return X"
   ]
  },
  {
   "cell_type": "markdown",
   "metadata": {},
   "source": [
    "To fill any missing hours, there first needs to be an `hour` column."
   ]
  },
  {
   "cell_type": "code",
   "execution_count": 120,
   "metadata": {},
   "outputs": [],
   "source": [
    "class GetHour(BaseEstimator, TransformerMixin):\n",
    "    def fit(self, X, y=None):\n",
    "        return self\n",
    "    \n",
    "    def transform(self, X):\n",
    "        X['hour'] = X['date'].apply(lambda x: get_hour(x))\n",
    "        return X"
   ]
  },
  {
   "cell_type": "markdown",
   "metadata": {},
   "source": [
    "Now, fill in the missing hours. This function is different than the one for the DC table. "
   ]
  },
  {
   "cell_type": "code",
   "execution_count": 121,
   "metadata": {},
   "outputs": [],
   "source": [
    "class FillHoursLond(BaseEstimator, TransformerMixin):\n",
    "    def fit(self, X, y=None):\n",
    "        return self\n",
    "    \n",
    "    def transform(self, X):\n",
    "        return fill_hours_london(X)"
   ]
  },
  {
   "cell_type": "markdown",
   "metadata": {},
   "source": [
    "With all rows filled in, get all remaining time-related values out of `date` column. First use the previous function:\n",
    ">Getday\n",
    "\n",
    "Then get `year`, `month`, and `weekday`."
   ]
  },
  {
   "cell_type": "code",
   "execution_count": 122,
   "metadata": {},
   "outputs": [],
   "source": [
    "class GetYr_Mn_Wkdy(BaseEstimator, TransformerMixin):\n",
    "    def fit(self, X, y=None):\n",
    "        return self\n",
    "    \n",
    "    def transform(self, X):\n",
    "        X['year'] = X['date'].apply(lambda x: get_year(x))\n",
    "        X['month'] = X['date'].apply(lambda x: get_month(x))\n",
    "        X['weekday'] = X['date'].apply(lambda x: get_weekday(x))\n",
    "\n",
    "        return X"
   ]
  },
  {
   "cell_type": "markdown",
   "metadata": {},
   "source": [
    "Filling values that are identical within each day. Can reuse the previous function:<br>\n",
    ">FillWMeans\n",
    "\n",
    "Any columns who's values could not be filled by above function have no data at all for that day, and need to be dropped. "
   ]
  },
  {
   "cell_type": "code",
   "execution_count": 123,
   "metadata": {},
   "outputs": [],
   "source": [
    "class DropNaSubsetLond(BaseEstimator, TransformerMixin):\n",
    "    def __init__(self, subset):\n",
    "        self.subset = subset\n",
    "\n",
    "    def fit(self, X, y=None):\n",
    "        return self\n",
    "\n",
    "    def transform(self, X):\n",
    "        X_transformed = X.dropna(subset=self.subset)\n",
    "        return X_transformed"
   ]
  },
  {
   "cell_type": "markdown",
   "metadata": {},
   "source": [
    "Filling values that move throughout the day. Can reuse the previous function:<br>\n",
    ">FillWInterpolate\n",
    "\n",
    "Use `ForwardFill` for missing weather values, as there is no secondary table to draw from. "
   ]
  },
  {
   "cell_type": "code",
   "execution_count": 124,
   "metadata": {},
   "outputs": [],
   "source": [
    "class ForwardFillWeatherLond(BaseEstimator, TransformerMixin):\n",
    "        def fit(self, X, y=None):\n",
    "            return self\n",
    "        \n",
    "        def transform(self, X):\n",
    "            X.loc[:, 'weather'] = X['weather'].ffill()\n",
    "            return X"
   ]
  },
  {
   "cell_type": "markdown",
   "metadata": {},
   "source": [
    "Perform value mappings; convert `season` and `weekday` to match DC set's values. Reduce number of `weather` values, matching based on descriptions, then create `precip` column. Assign numbers 0-2 for values in `year`."
   ]
  },
  {
   "cell_type": "code",
   "execution_count": 125,
   "metadata": {},
   "outputs": [],
   "source": [
    "class ValueMapTransformerLond(BaseEstimator, TransformerMixin):\n",
    "    def __init__(self):\n",
    "        self.seas_map= {0:1,1:2,2:3,3:4}\n",
    "        self.weather_map = {1:1,2:1,3:2,4:2,7:3,10:4,26:4,94:4}\n",
    "        self.day_map = {6:0,0:1,1:2,2:3,3:4,4:5,5:6}\n",
    "        self.year_map = {2015:0,2016:1,2017:2}\n",
    "        self.precip_map = {1:0,2:0,3:1,4:1}\n",
    "    \n",
    "    def fit(self, X, y=None):\n",
    "        return self\n",
    "    \n",
    "    def transform(self, X):\n",
    "        X['season'] = X['season'].map(self.seas_map)\n",
    "        X['weather'] = X['weather'].map(self.weather_map)\n",
    "        X.loc[:,'weekday'] = X['weekday'].map(self.day_map)\n",
    "        X.loc[:,'year'] = X['year'].map(self.year_map)\n",
    "        X['precip'] = X['weather'].map(self.precip_map)\n",
    "\n",
    "        return X"
   ]
  },
  {
   "cell_type": "markdown",
   "metadata": {},
   "source": [
    "Set non-float columns to `int`, reorder columns the way I like them. Can reuse the previous function:<br>\n",
    ">SetIntReorder\n",
    "\n",
    "Set `date` as the index. Can reuse the previous function:<br>\n",
    ">SetIndexDate"
   ]
  },
  {
   "cell_type": "markdown",
   "metadata": {},
   "source": [
    "Assemble the pipeline:"
   ]
  },
  {
   "cell_type": "code",
   "execution_count": 126,
   "metadata": {},
   "outputs": [],
   "source": [
    "l_pipe = Pipeline([\n",
    "('rename_lond', RenameColLond()),\n",
    "('workingday_col', MakeWorkingDayLond()),\n",
    "('datetime_converter', DateTimeConverter('date')),\n",
    "('get_hour', GetHour()),\n",
    "('fill_hours', FillHoursLond()),\n",
    "('get_day', GetDay()),\n",
    "('get_time_values', GetYr_Mn_Wkdy()),\n",
    "('fill_w_means', FillWMeans()),\n",
    "('dropna', DropNaSubsetLond(subset=['season', 'workingday', 'holiday'])),\n",
    "('fill_interpolate', FillWInterpolate()),\n",
    "('fill_weather', ForwardFillWeatherLond()),\n",
    "('value_mapping', ValueMapTransformerLond()),\n",
    "('set_int_reorder', SetIntReorder()),\n",
    "('set_index_date', SetIndexDate())\n",
    "])"
   ]
  },
  {
   "cell_type": "code",
   "execution_count": 127,
   "metadata": {},
   "outputs": [],
   "source": [
    "london_data = l_pipe.fit_transform(london)"
   ]
  },
  {
   "cell_type": "code",
   "execution_count": 128,
   "metadata": {},
   "outputs": [
    {
     "data": {
      "text/plain": [
       "(17414, 15)"
      ]
     },
     "metadata": {},
     "output_type": "display_data"
    },
    {
     "data": {
      "text/html": [
       "<div>\n",
       "<style scoped>\n",
       "    .dataframe tbody tr th:only-of-type {\n",
       "        vertical-align: middle;\n",
       "    }\n",
       "\n",
       "    .dataframe tbody tr th {\n",
       "        vertical-align: top;\n",
       "    }\n",
       "\n",
       "    .dataframe thead th {\n",
       "        text-align: right;\n",
       "    }\n",
       "</style>\n",
       "<table border=\"1\" class=\"dataframe\">\n",
       "  <thead>\n",
       "    <tr style=\"text-align: right;\">\n",
       "      <th></th>\n",
       "      <th>season</th>\n",
       "      <th>year</th>\n",
       "      <th>month</th>\n",
       "      <th>day</th>\n",
       "      <th>hour</th>\n",
       "      <th>weekday</th>\n",
       "      <th>holiday</th>\n",
       "      <th>workingday</th>\n",
       "      <th>weather</th>\n",
       "      <th>precip</th>\n",
       "      <th>temp</th>\n",
       "      <th>atemp</th>\n",
       "      <th>humidity</th>\n",
       "      <th>windspeed</th>\n",
       "      <th>count</th>\n",
       "    </tr>\n",
       "    <tr>\n",
       "      <th>date</th>\n",
       "      <th></th>\n",
       "      <th></th>\n",
       "      <th></th>\n",
       "      <th></th>\n",
       "      <th></th>\n",
       "      <th></th>\n",
       "      <th></th>\n",
       "      <th></th>\n",
       "      <th></th>\n",
       "      <th></th>\n",
       "      <th></th>\n",
       "      <th></th>\n",
       "      <th></th>\n",
       "      <th></th>\n",
       "      <th></th>\n",
       "    </tr>\n",
       "  </thead>\n",
       "  <tbody>\n",
       "    <tr>\n",
       "      <th>2015-01-04 00:00:00</th>\n",
       "      <td>4</td>\n",
       "      <td>0</td>\n",
       "      <td>1</td>\n",
       "      <td>4</td>\n",
       "      <td>0</td>\n",
       "      <td>0</td>\n",
       "      <td>0</td>\n",
       "      <td>0</td>\n",
       "      <td>2</td>\n",
       "      <td>0</td>\n",
       "      <td>3.0</td>\n",
       "      <td>2.0</td>\n",
       "      <td>93.0</td>\n",
       "      <td>6.0</td>\n",
       "      <td>182</td>\n",
       "    </tr>\n",
       "    <tr>\n",
       "      <th>2015-01-04 01:00:00</th>\n",
       "      <td>4</td>\n",
       "      <td>0</td>\n",
       "      <td>1</td>\n",
       "      <td>4</td>\n",
       "      <td>1</td>\n",
       "      <td>0</td>\n",
       "      <td>0</td>\n",
       "      <td>0</td>\n",
       "      <td>1</td>\n",
       "      <td>0</td>\n",
       "      <td>3.0</td>\n",
       "      <td>2.5</td>\n",
       "      <td>93.0</td>\n",
       "      <td>5.0</td>\n",
       "      <td>138</td>\n",
       "    </tr>\n",
       "    <tr>\n",
       "      <th>2015-01-04 02:00:00</th>\n",
       "      <td>4</td>\n",
       "      <td>0</td>\n",
       "      <td>1</td>\n",
       "      <td>4</td>\n",
       "      <td>2</td>\n",
       "      <td>0</td>\n",
       "      <td>0</td>\n",
       "      <td>0</td>\n",
       "      <td>1</td>\n",
       "      <td>0</td>\n",
       "      <td>2.5</td>\n",
       "      <td>2.5</td>\n",
       "      <td>96.5</td>\n",
       "      <td>0.0</td>\n",
       "      <td>134</td>\n",
       "    </tr>\n",
       "    <tr>\n",
       "      <th>2015-01-04 03:00:00</th>\n",
       "      <td>4</td>\n",
       "      <td>0</td>\n",
       "      <td>1</td>\n",
       "      <td>4</td>\n",
       "      <td>3</td>\n",
       "      <td>0</td>\n",
       "      <td>0</td>\n",
       "      <td>0</td>\n",
       "      <td>1</td>\n",
       "      <td>0</td>\n",
       "      <td>2.0</td>\n",
       "      <td>2.0</td>\n",
       "      <td>100.0</td>\n",
       "      <td>0.0</td>\n",
       "      <td>72</td>\n",
       "    </tr>\n",
       "    <tr>\n",
       "      <th>2015-01-04 04:00:00</th>\n",
       "      <td>4</td>\n",
       "      <td>0</td>\n",
       "      <td>1</td>\n",
       "      <td>4</td>\n",
       "      <td>4</td>\n",
       "      <td>0</td>\n",
       "      <td>0</td>\n",
       "      <td>0</td>\n",
       "      <td>1</td>\n",
       "      <td>0</td>\n",
       "      <td>2.0</td>\n",
       "      <td>0.0</td>\n",
       "      <td>93.0</td>\n",
       "      <td>6.5</td>\n",
       "      <td>47</td>\n",
       "    </tr>\n",
       "  </tbody>\n",
       "</table>\n",
       "</div>"
      ],
      "text/plain": [
       "                     season  year  month  day  hour  weekday  holiday  \\\n",
       "date                                                                    \n",
       "2015-01-04 00:00:00       4     0      1    4     0        0        0   \n",
       "2015-01-04 01:00:00       4     0      1    4     1        0        0   \n",
       "2015-01-04 02:00:00       4     0      1    4     2        0        0   \n",
       "2015-01-04 03:00:00       4     0      1    4     3        0        0   \n",
       "2015-01-04 04:00:00       4     0      1    4     4        0        0   \n",
       "\n",
       "                     workingday  weather  precip  temp  atemp  humidity  \\\n",
       "date                                                                      \n",
       "2015-01-04 00:00:00           0        2       0   3.0    2.0      93.0   \n",
       "2015-01-04 01:00:00           0        1       0   3.0    2.5      93.0   \n",
       "2015-01-04 02:00:00           0        1       0   2.5    2.5      96.5   \n",
       "2015-01-04 03:00:00           0        1       0   2.0    2.0     100.0   \n",
       "2015-01-04 04:00:00           0        1       0   2.0    0.0      93.0   \n",
       "\n",
       "                     windspeed  count  \n",
       "date                                   \n",
       "2015-01-04 00:00:00        6.0    182  \n",
       "2015-01-04 01:00:00        5.0    138  \n",
       "2015-01-04 02:00:00        0.0    134  \n",
       "2015-01-04 03:00:00        0.0     72  \n",
       "2015-01-04 04:00:00        6.5     47  "
      ]
     },
     "execution_count": 128,
     "metadata": {},
     "output_type": "execute_result"
    }
   ],
   "source": [
    "display(london_data.shape)\n",
    "london_data.head()"
   ]
  }
 ],
 "metadata": {
  "kernelspec": {
   "display_name": "base",
   "language": "python",
   "name": "python3"
  },
  "language_info": {
   "codemirror_mode": {
    "name": "ipython",
    "version": 3
   },
   "file_extension": ".py",
   "mimetype": "text/x-python",
   "name": "python",
   "nbconvert_exporter": "python",
   "pygments_lexer": "ipython3",
   "version": "3.12.3"
  }
 },
 "nbformat": 4,
 "nbformat_minor": 2
}
