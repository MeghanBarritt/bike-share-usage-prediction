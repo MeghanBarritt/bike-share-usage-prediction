{
 "cells": [
  {
   "cell_type": "markdown",
   "metadata": {},
   "source": [
    "# 3 - Models<p>\n",
    "I'm doing an initial run with these regression models to see how well they perform:<ul>\n",
    "Linear Regression<br>\n",
    "Support Vector Regressor<br>\n",
    "Random Forest Regressor<br>\n",
    "XGBoost Regressor"
   ]
  },
  {
   "cell_type": "markdown",
   "metadata": {},
   "source": [
    "Import pickled data and libraries:"
   ]
  },
  {
   "cell_type": "code",
   "execution_count": 41,
   "metadata": {},
   "outputs": [],
   "source": [
    "import pandas as pd\n",
    "dc_data = pd.read_pickle('pickles/dc_data.pkl')\n",
    "london_data = pd.read_pickle('pickles/london_data.pkl')\n",
    "from sklearn.metrics import r2_score, root_mean_squared_error\n",
    "from sklearn.linear_model import LinearRegression\n",
    "from sklearn.svm import SVR\n",
    "from sklearn.ensemble import RandomForestRegressor\n",
    "from xgboost import XGBRegressor\n",
    "from statsmodels.tsa.vector_ar.var_model import VAR"
   ]
  },
  {
   "cell_type": "markdown",
   "metadata": {},
   "source": [
    "Split the data into trains and tests, but not randomly, because this data being ordered by time matters."
   ]
  },
  {
   "cell_type": "code",
   "execution_count": 42,
   "metadata": {},
   "outputs": [],
   "source": [
    "train_dc = dc_data[:int(0.8*(len(dc_data)))]\n",
    "X_train_dc = train_dc.drop('count',axis=1)\n",
    "y_train_dc = train_dc['count']\n",
    "\n",
    "test_dc = dc_data[int(0.8*(len(dc_data))):]\n",
    "X_test_dc = test_dc.drop('count',axis=1)\n",
    "y_test_dc = test_dc['count']"
   ]
  },
  {
   "cell_type": "code",
   "execution_count": 43,
   "metadata": {},
   "outputs": [],
   "source": [
    "X_train_dc.to_pickle('pickles/split/X_train_dc.pkl')\n",
    "y_train_dc.to_pickle('pickles/split/y_train_dc.pkl')\n",
    "X_test_dc.to_pickle('pickles/split/X_test_dc.pkl')\n",
    "y_test_dc.to_pickle('pickles/split/y_test_dc.pkl')"
   ]
  },
  {
   "cell_type": "code",
   "execution_count": 44,
   "metadata": {},
   "outputs": [],
   "source": [
    "train_l = london_data[:int(0.8*(len(london_data)))]\n",
    "X_train_l = train_l.drop('count',axis=1)\n",
    "y_train_l = train_l['count']\n",
    "\n",
    "test_l = london_data[int(0.8*(len(london_data))):]\n",
    "X_test_l = test_l.drop('count',axis=1)\n",
    "y_test_l = test_l['count']"
   ]
  },
  {
   "cell_type": "code",
   "execution_count": 45,
   "metadata": {},
   "outputs": [],
   "source": [
    "X_train_l.to_pickle('pickles/split/X_train_l.pkl')\n",
    "y_train_l.to_pickle('pickles/split/y_train_l.pkl')\n",
    "X_test_l.to_pickle('pickles/split/X_test_l.pkl')\n",
    "y_test_l.to_pickle('pickles/split/y_test_l.pkl')"
   ]
  },
  {
   "cell_type": "markdown",
   "metadata": {},
   "source": [
    "### Linear Regression"
   ]
  },
  {
   "cell_type": "code",
   "execution_count": 46,
   "metadata": {},
   "outputs": [],
   "source": [
    "linreg_dc = LinearRegression()\n",
    "linreg_dc.fit(X_train_dc, y_train_dc)\n",
    "\n",
    "pred_y_train_dc = linreg_dc.predict(X_train_dc)\n",
    "pred_y_test_dc = linreg_dc.predict(X_test_dc)"
   ]
  },
  {
   "cell_type": "code",
   "execution_count": 47,
   "metadata": {},
   "outputs": [],
   "source": [
    "dc_train_rmse = root_mean_squared_error(y_train_dc, pred_y_train_dc)\n",
    "dc_train_r2 = r2_score(y_train_dc, pred_y_train_dc)\n",
    "dc_test_rmse = root_mean_squared_error(y_test_dc, pred_y_test_dc)\n",
    "dc_test_r2 = r2_score(y_test_dc, pred_y_test_dc)"
   ]
  },
  {
   "cell_type": "code",
   "execution_count": 48,
   "metadata": {},
   "outputs": [
    {
     "name": "stdout",
     "output_type": "stream",
     "text": [
      "DC dataset results \n",
      "Train set:\n",
      "Root Mean Squared Error: 129.47650158667653\n",
      "R-squared: 0.40023509636432963\n",
      "\n",
      "Test set:\n",
      "Root Mean Squared Error: 182.47521094734591\n",
      "R-squared: 0.3154146362592527\n"
     ]
    }
   ],
   "source": [
    "print('DC dataset results \\nTrain set:')\n",
    "print(f\"Root Mean Squared Error: {dc_train_rmse}\")\n",
    "print(f\"R-squared: {dc_train_r2}\")\n",
    "print('\\nTest set:')\n",
    "print(f\"Root Mean Squared Error: {dc_test_rmse}\")\n",
    "print(f\"R-squared: {dc_test_r2}\")"
   ]
  },
  {
   "cell_type": "code",
   "execution_count": 49,
   "metadata": {},
   "outputs": [],
   "source": [
    "linreg_l = LinearRegression()\n",
    "linreg_l.fit(X_train_l, y_train_l)\n",
    "\n",
    "pred_y_train_l = linreg_l.predict(X_train_l)\n",
    "pred_y_test_l = linreg_l.predict(X_test_l)"
   ]
  },
  {
   "cell_type": "code",
   "execution_count": 50,
   "metadata": {},
   "outputs": [],
   "source": [
    "l_train_rmse = root_mean_squared_error(y_train_l, pred_y_train_l)\n",
    "l_train_r2 = r2_score(y_train_l, pred_y_train_l)\n",
    "l_test_rmse = root_mean_squared_error(y_test_l, pred_y_test_l)\n",
    "l_test_r2 = r2_score(y_test_l, pred_y_test_l)"
   ]
  },
  {
   "cell_type": "code",
   "execution_count": 51,
   "metadata": {},
   "outputs": [
    {
     "name": "stdout",
     "output_type": "stream",
     "text": [
      "London dataset results \n",
      "Train set:\n",
      "Root Mean Squared Error: 887.6725962693262\n",
      "R-squared: 0.31692830959135165\n",
      "\n",
      "Test set:\n",
      "Root Mean Squared Error: 978.3105148178599\n",
      "R-squared: 0.24876167392851933\n"
     ]
    }
   ],
   "source": [
    "print('London dataset results \\nTrain set:')\n",
    "print(f\"Root Mean Squared Error: {l_train_rmse}\")\n",
    "print(f\"R-squared: {l_train_r2}\")\n",
    "print('\\nTest set:')\n",
    "print(f\"Root Mean Squared Error: {l_test_rmse}\")\n",
    "print(f\"R-squared: {l_test_r2}\")"
   ]
  },
  {
   "cell_type": "markdown",
   "metadata": {},
   "source": [
    "### SVR"
   ]
  },
  {
   "cell_type": "code",
   "execution_count": 52,
   "metadata": {},
   "outputs": [],
   "source": [
    "svr_dc = SVR()\n",
    "svr_dc.fit(X_train_dc, y_train_dc)\n",
    "\n",
    "pred_svr_dc_train = svr_dc.predict(X_train_dc)\n",
    "pred_svr_dc_test = svr_dc.predict(X_test_dc)"
   ]
  },
  {
   "cell_type": "code",
   "execution_count": 53,
   "metadata": {},
   "outputs": [],
   "source": [
    "svr_dc_rmse_train = root_mean_squared_error(y_train_dc, pred_svr_dc_train)\n",
    "svr_dc_r2_train = r2_score(y_train_dc, pred_svr_dc_train)\n",
    "\n",
    "svr_dc_rmse_test = root_mean_squared_error(y_test_dc, pred_svr_dc_test)\n",
    "svr_dc_r2_test = r2_score(y_test_dc, pred_svr_dc_test)"
   ]
  },
  {
   "cell_type": "code",
   "execution_count": 54,
   "metadata": {},
   "outputs": [
    {
     "name": "stdout",
     "output_type": "stream",
     "text": [
      "DC dataset results \n",
      "Train set:\n",
      "Root Mean Squared Error: 143.88640899563978\n",
      "R-squared: 0.25930624378822176\n",
      "\n",
      "Test set:\n",
      "Root Mean Squared Error: 210.58087348202932\n",
      "R-squared: 0.08828792531790608\n"
     ]
    }
   ],
   "source": [
    "print('DC dataset results \\nTrain set:')\n",
    "print(f\"Root Mean Squared Error: {svr_dc_rmse_train}\")\n",
    "print(f\"R-squared: {svr_dc_r2_train}\")\n",
    "print('\\nTest set:')\n",
    "print(f\"Root Mean Squared Error: {svr_dc_rmse_test}\")\n",
    "print(f\"R-squared: {svr_dc_r2_test}\")"
   ]
  },
  {
   "cell_type": "code",
   "execution_count": 55,
   "metadata": {},
   "outputs": [],
   "source": [
    "svr_l = SVR()\n",
    "svr_l.fit(X_train_l, y_train_l)\n",
    "\n",
    "pred_svr_l_train = svr_l.predict(X_train_l)\n",
    "pred_svr_l_test = svr_l.predict(X_test_l)"
   ]
  },
  {
   "cell_type": "code",
   "execution_count": 56,
   "metadata": {},
   "outputs": [],
   "source": [
    "svr_l_rmse_train = root_mean_squared_error(y_train_l, pred_svr_l_train)\n",
    "svr_l_r2_train = r2_score(y_train_l, pred_svr_l_train)\n",
    "\n",
    "svr_l_rmse_test = root_mean_squared_error(y_test_l, pred_svr_l_test)\n",
    "svr_l_r2_test = r2_score(y_test_l, pred_svr_l_test)"
   ]
  },
  {
   "cell_type": "code",
   "execution_count": 57,
   "metadata": {},
   "outputs": [
    {
     "name": "stdout",
     "output_type": "stream",
     "text": [
      "London dataset results \n",
      "Train set:\n",
      "Root Mean Squared Error: 1021.256075397555\n",
      "R-squared: 0.09587189980290356\n",
      "\n",
      "Test set:\n",
      "Root Mean Squared Error: 1086.1229944892814\n",
      "R-squared: 0.07406114159332133\n"
     ]
    }
   ],
   "source": [
    "print('London dataset results \\nTrain set:')\n",
    "print(f\"Root Mean Squared Error: {svr_l_rmse_train}\")\n",
    "print(f\"R-squared: {svr_l_r2_train}\")\n",
    "print('\\nTest set:')\n",
    "print(f\"Root Mean Squared Error: {svr_l_rmse_test}\")\n",
    "print(f\"R-squared: {svr_l_r2_test}\")"
   ]
  },
  {
   "cell_type": "markdown",
   "metadata": {},
   "source": [
    "### Random Forest Regressor"
   ]
  },
  {
   "cell_type": "code",
   "execution_count": 58,
   "metadata": {},
   "outputs": [],
   "source": [
    "forest_dc = RandomForestRegressor(random_state=42)\n",
    "forest_dc.fit(X_train_dc, y_train_dc)\n",
    "\n",
    "forest_pred_dc_train = forest_dc.predict(X_train_dc)\n",
    "forest_pred_dc_test = forest_dc.predict(X_test_dc)"
   ]
  },
  {
   "cell_type": "code",
   "execution_count": 59,
   "metadata": {},
   "outputs": [],
   "source": [
    "forest_dc_rmse_train = root_mean_squared_error(y_train_dc, forest_pred_dc_train)\n",
    "forest_dc_r2_train = r2_score(y_train_dc, forest_pred_dc_train)\n",
    "\n",
    "forest_dc_rmse_test = root_mean_squared_error(y_test_dc, forest_pred_dc_test)\n",
    "forest_dc_r2_test = r2_score(y_test_dc, forest_pred_dc_test)"
   ]
  },
  {
   "cell_type": "code",
   "execution_count": 60,
   "metadata": {},
   "outputs": [
    {
     "name": "stdout",
     "output_type": "stream",
     "text": [
      "DC dataset results \n",
      "Train set:\n",
      "Root Mean Squared Error: 14.152513563206748\n",
      "R-squared: 0.9928341733910035\n",
      "\n",
      "Test set:\n",
      "Root Mean Squared Error: 72.87654665983804\n",
      "R-squared: 0.8908068409097215\n"
     ]
    }
   ],
   "source": [
    "print('DC dataset results \\nTrain set:')\n",
    "print(f\"Root Mean Squared Error: {forest_dc_rmse_train}\")\n",
    "print(f\"R-squared: {forest_dc_r2_train}\")\n",
    "print('\\nTest set:')\n",
    "print(f\"Root Mean Squared Error: {forest_dc_rmse_test}\")\n",
    "print(f\"R-squared: {forest_dc_r2_test}\")"
   ]
  },
  {
   "cell_type": "code",
   "execution_count": 61,
   "metadata": {},
   "outputs": [],
   "source": [
    "forest_l = RandomForestRegressor(random_state=42)\n",
    "forest_l.fit(X_train_l, y_train_l)\n",
    "\n",
    "forest_pred_l_train = forest_l.predict(X_train_l)\n",
    "forest_pred_l_test = forest_l.predict(X_test_l)"
   ]
  },
  {
   "cell_type": "code",
   "execution_count": 62,
   "metadata": {},
   "outputs": [],
   "source": [
    "forest_l_rmse_train = root_mean_squared_error(y_train_l, forest_pred_l_train)\n",
    "forest_l_r2_train = r2_score(y_train_l, forest_pred_l_train)\n",
    "\n",
    "forest_l_rmse_test = root_mean_squared_error(y_test_l, forest_pred_l_test)\n",
    "forest_l_r2_test = r2_score(y_test_l, forest_pred_l_test)"
   ]
  },
  {
   "cell_type": "code",
   "execution_count": 63,
   "metadata": {},
   "outputs": [
    {
     "name": "stdout",
     "output_type": "stream",
     "text": [
      "London dataset results \n",
      "Train set:\n",
      "Root Mean Squared Error: 85.32546889684085\n",
      "R-squared: 0.9936887115704169\n",
      "\n",
      "Test set:\n",
      "Root Mean Squared Error: 289.163573168845\n",
      "R-squared: 0.9343686316506019\n"
     ]
    }
   ],
   "source": [
    "print('London dataset results \\nTrain set:')\n",
    "print(f\"Root Mean Squared Error: {forest_l_rmse_train}\")\n",
    "print(f\"R-squared: {forest_l_r2_train}\")\n",
    "print('\\nTest set:')\n",
    "print(f\"Root Mean Squared Error: {forest_l_rmse_test}\")\n",
    "print(f\"R-squared: {forest_l_r2_test}\")"
   ]
  },
  {
   "cell_type": "markdown",
   "metadata": {},
   "source": [
    "### XGBoost Regressor"
   ]
  },
  {
   "cell_type": "code",
   "execution_count": 64,
   "metadata": {},
   "outputs": [],
   "source": [
    "xgbr_dc = XGBRegressor(objective='reg:squarederror', random_state=42)\n",
    "xgbr_dc.fit(X_train_dc, y_train_dc)\n",
    "\n",
    "xgbr_pred_dc_train = xgbr_dc.predict(X_train_dc)\n",
    "xgbr_pred_dc_test = xgbr_dc.predict(X_test_dc)"
   ]
  },
  {
   "cell_type": "code",
   "execution_count": 65,
   "metadata": {},
   "outputs": [],
   "source": [
    "xgbr_dc_rmse_train = root_mean_squared_error(y_train_dc, xgbr_pred_dc_train)\n",
    "xgbr_dc_r2_train = r2_score(y_train_dc, xgbr_pred_dc_train)\n",
    "\n",
    "xgbr_dc_rmse_test = root_mean_squared_error(y_test_dc, xgbr_pred_dc_test)\n",
    "xgbr_dc_r2_test = r2_score(y_test_dc, xgbr_pred_dc_test)"
   ]
  },
  {
   "cell_type": "code",
   "execution_count": 66,
   "metadata": {},
   "outputs": [
    {
     "name": "stdout",
     "output_type": "stream",
     "text": [
      "DC dataset results: \n",
      "Root Mean Squared Error: \n",
      "  Train: 24.081214852442457 \n",
      "  Test: 69.92294989890084\n",
      "\n",
      "R2: \n",
      "  Train: 0.9792529940605164 \n",
      "  Test: 0.8994784355163574\n"
     ]
    }
   ],
   "source": [
    "print(f\"DC dataset results: \\nRoot Mean Squared Error: \\n  Train: {xgbr_dc_rmse_train} \\n  Test: {xgbr_dc_rmse_test}\")\n",
    "print(f\"\\nR2: \\n  Train: {xgbr_dc_r2_train} \\n  Test: {xgbr_dc_r2_test}\")"
   ]
  },
  {
   "cell_type": "code",
   "execution_count": 67,
   "metadata": {},
   "outputs": [],
   "source": [
    "xgbr_l = XGBRegressor(objective='reg:squarederror', random_state=42)\n",
    "xgbr_l.fit(X_train_l, y_train_l)\n",
    "\n",
    "xgbr_pred_l_train = xgbr_l.predict(X_train_l)\n",
    "xgbr_pred_l_test = xgbr_l.predict(X_test_l)"
   ]
  },
  {
   "cell_type": "code",
   "execution_count": 68,
   "metadata": {},
   "outputs": [],
   "source": [
    "xgbr_l_rmse_train = root_mean_squared_error(y_train_l, xgbr_pred_l_train)\n",
    "xgbr_l_r2_train = r2_score(y_train_l, xgbr_pred_l_train)\n",
    "\n",
    "xgbr_l_rmse_test = root_mean_squared_error(y_test_l, xgbr_pred_l_test)\n",
    "xgbr_l_r2_test = r2_score(y_test_l, xgbr_pred_l_test)"
   ]
  },
  {
   "cell_type": "code",
   "execution_count": 69,
   "metadata": {},
   "outputs": [
    {
     "name": "stdout",
     "output_type": "stream",
     "text": [
      "London dataset results: \n",
      "Root Mean Squared Error: \n",
      "  Train: 127.9868120875735 \n",
      "  Test: 332.20786503370334\n",
      "\n",
      "R2: \n",
      "  Train: 0.9857999086380005 \n",
      "  Test: 0.9133748412132263\n"
     ]
    }
   ],
   "source": [
    "print(f\"London dataset results: \\nRoot Mean Squared Error: \\n  Train: {xgbr_l_rmse_train} \\n  Test: {xgbr_l_rmse_test}\")\n",
    "print(f\"\\nR2: \\n  Train: {xgbr_l_r2_train} \\n  Test: {xgbr_l_r2_test}\")"
   ]
  },
  {
   "cell_type": "markdown",
   "metadata": {},
   "source": [
    "Compare the models' performance against each other:"
   ]
  },
  {
   "cell_type": "code",
   "execution_count": 74,
   "metadata": {},
   "outputs": [
    {
     "name": "stdout",
     "output_type": "stream",
     "text": [
      "Linear Regression results: \n",
      "  DC RMSE: 182.47521094734591 \n",
      "  DC R2: 0.3154146362592527 \n",
      "  London RMSE: 978.3105148178599 \n",
      "  London R2: 0.24876167392851933\n",
      "\n",
      "SVR results: \n",
      "  DC RMSE: 210.58087348202932 \n",
      "  DC R2: 0.08828792531790608 \n",
      "  London RMSE: 1086.1229944892814 \n",
      "  London R2: 0.07406114159332133\n",
      "\n",
      "Random Forest results: \n",
      "  DC RMSE: 72.87654665983804 \n",
      "  DC R2: 0.8908068409097215 \n",
      "  London RMSE: 289.163573168845 \n",
      "  London R2: 0.9343686316506019\n",
      "\n",
      "XGBRegressor results: \n",
      "  DC RMSE: 69.92294989890084 \n",
      "  DC R2: 0.8994784355163574 \n",
      "  London RMSE: 332.20786503370334 \n",
      "  London R2: 0.9133748412132263\n"
     ]
    }
   ],
   "source": [
    "print(f\"Linear Regression results: \\n  DC RMSE: {dc_test_rmse} \\n  DC R2: {dc_test_r2} \\n  London RMSE: {l_test_rmse} \\n  London R2: {l_test_r2}\")\n",
    "print(f\"\\nSVR results: \\n  DC RMSE: {svr_dc_rmse_test} \\n  DC R2: {svr_dc_r2_test} \\n  London RMSE: {svr_l_rmse_test} \\n  London R2: {svr_l_r2_test}\")\n",
    "print(f\"\\nRandom Forest results: \\n  DC RMSE: {forest_dc_rmse_test} \\n  DC R2: {forest_dc_r2_test} \\n  London RMSE: {forest_l_rmse_test} \\n  London R2: {forest_l_r2_test}\")\n",
    "print(f\"\\nXGBRegressor results: \\n  DC RMSE: {xgbr_dc_rmse_test} \\n  DC R2: {xgbr_dc_r2_test} \\n  London RMSE: {xgbr_l_rmse_test} \\n  London R2: {xgbr_l_r2_test}\")"
   ]
  },
  {
   "cell_type": "markdown",
   "metadata": {},
   "source": [
    "Of these four, the best performers, based on both the RMSE **and** the R2 are `RandomForestRegressor` and `XGBRegressor`. I'm going to take these two forward to hyperparameter tuning. "
   ]
  }
 ],
 "metadata": {
  "kernelspec": {
   "display_name": "base",
   "language": "python",
   "name": "python3"
  },
  "language_info": {
   "codemirror_mode": {
    "name": "ipython",
    "version": 3
   },
   "file_extension": ".py",
   "mimetype": "text/x-python",
   "name": "python",
   "nbconvert_exporter": "python",
   "pygments_lexer": "ipython3",
   "version": "3.12.3"
  }
 },
 "nbformat": 4,
 "nbformat_minor": 2
}
