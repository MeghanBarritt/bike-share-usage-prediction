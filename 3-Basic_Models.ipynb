{
 "cells": [
  {
   "cell_type": "markdown",
   "metadata": {},
   "source": [
    "# 3 - Models<p>\n",
    "I'm doing an initial run with these regression models to see how well they perform:<ul>\n",
    "Linear Regression<br>\n",
    "Support Vector Regressor<br>\n",
    "Random Forest Regressor<br>\n",
    "XGBoost Regressor"
   ]
  },
  {
   "cell_type": "markdown",
   "metadata": {},
   "source": [
    "Import pickled data and libraries:"
   ]
  },
  {
   "cell_type": "code",
   "execution_count": 70,
   "metadata": {},
   "outputs": [],
   "source": [
    "import pandas as pd\n",
    "dc_data = pd.read_pickle('pickles/dc_data.pkl')\n",
    "london_data = pd.read_pickle('pickles/london_data.pkl')\n",
    "from sklearn.metrics import r2_score, root_mean_squared_error\n",
    "from sklearn.linear_model import LinearRegression\n",
    "from sklearn.svm import SVR\n",
    "from sklearn.ensemble import RandomForestRegressor\n",
    "from xgboost import XGBRegressor\n",
    "from statsmodels.tsa.vector_ar.var_model import VAR"
   ]
  },
  {
   "cell_type": "markdown",
   "metadata": {},
   "source": [
    "Split the data into trains and tests, but not randomly, because this data being ordered by time matters."
   ]
  },
  {
   "cell_type": "code",
   "execution_count": 71,
   "metadata": {},
   "outputs": [],
   "source": [
    "train_dc = dc_data[:int(0.8*(len(dc_data)))]\n",
    "X_train_dc = train_dc.drop('count',axis=1)\n",
    "y_train_dc = train_dc['count']\n",
    "\n",
    "test_dc = dc_data[int(0.8*(len(dc_data))):]\n",
    "X_test_dc = test_dc.drop('count',axis=1)\n",
    "y_test_dc = test_dc['count']"
   ]
  },
  {
   "cell_type": "code",
   "execution_count": 73,
   "metadata": {},
   "outputs": [],
   "source": [
    "X_train_dc.to_pickle('pickles/split/X_train_dc.pkl')\n",
    "y_train_dc.to_pickle('pickles/split/y_train_dc.pkl')\n",
    "X_test_dc.to_pickle('pickles/split/X_test_dc.pkl')\n",
    "y_test_dc.to_pickle('pickles/split/y_test_dc.pkl')"
   ]
  },
  {
   "cell_type": "code",
   "execution_count": 74,
   "metadata": {},
   "outputs": [],
   "source": [
    "train_l = london_data[:int(0.8*(len(london_data)))]\n",
    "X_train_l = train_l.drop('count',axis=1)\n",
    "y_train_l = train_l['count']\n",
    "\n",
    "test_l = london_data[int(0.8*(len(london_data))):]\n",
    "X_test_l = test_l.drop('count',axis=1)\n",
    "y_test_l = test_l['count']"
   ]
  },
  {
   "cell_type": "code",
   "execution_count": 76,
   "metadata": {},
   "outputs": [],
   "source": [
    "X_train_l.to_pickle('pickles/split/X_train_l.pkl')\n",
    "y_train_l.to_pickle('pickles/split/y_train_l.pkl')\n",
    "X_test_l.to_pickle('pickles/split/X_test_l.pkl')\n",
    "y_test_l.to_pickle('pickles/split/y_test_l.pkl')"
   ]
  },
  {
   "cell_type": "markdown",
   "metadata": {},
   "source": [
    "### Linear Regression"
   ]
  },
  {
   "cell_type": "code",
   "execution_count": 77,
   "metadata": {},
   "outputs": [],
   "source": [
    "linreg_dc = LinearRegression()\n",
    "linreg_dc.fit(X_train_dc, y_train_dc)\n",
    "\n",
    "pred_y_train_dc = linreg_dc.predict(X_train_dc)\n",
    "pred_y_test_dc = linreg_dc.predict(X_test_dc)"
   ]
  },
  {
   "cell_type": "code",
   "execution_count": 78,
   "metadata": {},
   "outputs": [],
   "source": [
    "dc_train_rmse = root_mean_squared_error(y_train_dc, pred_y_train_dc)\n",
    "dc_train_r2 = r2_score(y_train_dc, pred_y_train_dc)\n",
    "dc_test_rmse = root_mean_squared_error(y_test_dc, pred_y_test_dc)\n",
    "dc_test_r2 = r2_score(y_test_dc, pred_y_test_dc)"
   ]
  },
  {
   "cell_type": "code",
   "execution_count": 79,
   "metadata": {},
   "outputs": [
    {
     "name": "stdout",
     "output_type": "stream",
     "text": [
      "DC dataset results \n",
      "Train set:\n",
      "Root Mean Squared Error: 129.47650158667653\n",
      "R-squared: 0.40023509636432963\n",
      "\n",
      "Test set:\n",
      "Root Mean Squared Error: 182.47521094734591\n",
      "R-squared: 0.3154146362592527\n"
     ]
    }
   ],
   "source": [
    "print('DC dataset results \\nTrain set:')\n",
    "print(f\"Root Mean Squared Error: {dc_train_rmse}\")\n",
    "print(f\"R-squared: {dc_train_r2}\")\n",
    "print('\\nTest set:')\n",
    "print(f\"Root Mean Squared Error: {dc_test_rmse}\")\n",
    "print(f\"R-squared: {dc_test_r2}\")"
   ]
  },
  {
   "cell_type": "code",
   "execution_count": 80,
   "metadata": {},
   "outputs": [],
   "source": [
    "linreg_l = LinearRegression()\n",
    "linreg_l.fit(X_train_l, y_train_l)\n",
    "\n",
    "pred_y_train_l = linreg_l.predict(X_train_l)\n",
    "pred_y_test_l = linreg_l.predict(X_test_l)"
   ]
  },
  {
   "cell_type": "code",
   "execution_count": 81,
   "metadata": {},
   "outputs": [],
   "source": [
    "l_train_rmse = root_mean_squared_error(y_train_l, pred_y_train_l)\n",
    "l_train_r2 = r2_score(y_train_l, pred_y_train_l)\n",
    "l_test_rmse = root_mean_squared_error(y_test_l, pred_y_test_l)\n",
    "l_test_r2 = r2_score(y_test_l, pred_y_test_l)"
   ]
  },
  {
   "cell_type": "code",
   "execution_count": 82,
   "metadata": {},
   "outputs": [
    {
     "name": "stdout",
     "output_type": "stream",
     "text": [
      "London dataset results \n",
      "Train set:\n",
      "Root Mean Squared Error: 887.6725962693262\n",
      "R-squared: 0.31692830959135165\n",
      "\n",
      "Test set:\n",
      "Root Mean Squared Error: 978.3105148178599\n",
      "R-squared: 0.24876167392851933\n"
     ]
    }
   ],
   "source": [
    "print('London dataset results \\nTrain set:')\n",
    "print(f\"Root Mean Squared Error: {l_train_rmse}\")\n",
    "print(f\"R-squared: {l_train_r2}\")\n",
    "print('\\nTest set:')\n",
    "print(f\"Root Mean Squared Error: {l_test_rmse}\")\n",
    "print(f\"R-squared: {l_test_r2}\")"
   ]
  },
  {
   "cell_type": "markdown",
   "metadata": {},
   "source": [
    "### SVR"
   ]
  },
  {
   "cell_type": "code",
   "execution_count": 83,
   "metadata": {},
   "outputs": [],
   "source": [
    "svr_dc = SVR()\n",
    "svr_dc.fit(X_train_dc, y_train_dc)\n",
    "\n",
    "pred_svr_dc = svr_dc.predict(X_test_dc)"
   ]
  },
  {
   "cell_type": "code",
   "execution_count": 84,
   "metadata": {},
   "outputs": [],
   "source": [
    "svr_dc_rmse = root_mean_squared_error(y_test_dc, pred_svr_dc)\n",
    "svr_dc_r2 = r2_score(y_test_dc, pred_svr_dc)"
   ]
  },
  {
   "cell_type": "code",
   "execution_count": 85,
   "metadata": {},
   "outputs": [
    {
     "name": "stdout",
     "output_type": "stream",
     "text": [
      "DC dataset results:\n",
      "Root Mean Squared Error: 210.58087348202932\n",
      "R-squared: 0.08828792531790608\n"
     ]
    }
   ],
   "source": [
    "print('DC dataset results:')\n",
    "print(f\"Root Mean Squared Error: {svr_dc_rmse}\")\n",
    "print(f\"R-squared: {svr_dc_r2}\")"
   ]
  },
  {
   "cell_type": "code",
   "execution_count": 86,
   "metadata": {},
   "outputs": [],
   "source": [
    "svr_l = SVR()\n",
    "svr_l.fit(X_train_l, y_train_l)\n",
    "\n",
    "pred_svr_l = svr_l.predict(X_test_l)"
   ]
  },
  {
   "cell_type": "code",
   "execution_count": 87,
   "metadata": {},
   "outputs": [],
   "source": [
    "svr_l_rmse = root_mean_squared_error(y_test_l, pred_svr_l)\n",
    "svr_l_r2 = r2_score(y_test_l, pred_svr_l)"
   ]
  },
  {
   "cell_type": "code",
   "execution_count": 88,
   "metadata": {},
   "outputs": [
    {
     "name": "stdout",
     "output_type": "stream",
     "text": [
      "London dataset results:\n",
      "Root Mean Squared Error: 1086.1229944892814\n",
      "R-squared: 0.07406114159332133\n"
     ]
    }
   ],
   "source": [
    "print('London dataset results:')\n",
    "print(f\"Root Mean Squared Error: {svr_l_rmse}\")\n",
    "print(f\"R-squared: {svr_l_r2}\")"
   ]
  },
  {
   "cell_type": "markdown",
   "metadata": {},
   "source": [
    "### Random Forest Regressor"
   ]
  },
  {
   "cell_type": "code",
   "execution_count": 89,
   "metadata": {},
   "outputs": [],
   "source": [
    "forest_dc = RandomForestRegressor(random_state=42)\n",
    "forest_dc.fit(X_train_dc, y_train_dc)\n",
    "\n",
    "forest_pred_dc = forest_dc.predict(X_test_dc)"
   ]
  },
  {
   "cell_type": "code",
   "execution_count": 90,
   "metadata": {},
   "outputs": [],
   "source": [
    "forest_dc_rmse = root_mean_squared_error(y_test_dc, forest_pred_dc)\n",
    "forest_dc_r2 = r2_score(y_test_dc, forest_pred_dc)"
   ]
  },
  {
   "cell_type": "code",
   "execution_count": 91,
   "metadata": {},
   "outputs": [
    {
     "name": "stdout",
     "output_type": "stream",
     "text": [
      "DC dataset results:\n",
      "Root Mean Squared Error: 72.87654665983804\n",
      "R-squared: 0.8908068409097215\n"
     ]
    }
   ],
   "source": [
    "print('DC dataset results:')\n",
    "print(f\"Root Mean Squared Error: {forest_dc_rmse}\")\n",
    "print(f\"R-squared: {forest_dc_r2}\")"
   ]
  },
  {
   "cell_type": "code",
   "execution_count": 92,
   "metadata": {},
   "outputs": [],
   "source": [
    "forest_l = RandomForestRegressor(random_state=42)\n",
    "forest_l.fit(X_train_l, y_train_l)\n",
    "\n",
    "forest_pred_l = forest_l.predict(X_test_l)"
   ]
  },
  {
   "cell_type": "code",
   "execution_count": 93,
   "metadata": {},
   "outputs": [],
   "source": [
    "forest_l_rmse = root_mean_squared_error(y_test_l, forest_pred_l)\n",
    "forest_l_r2 = r2_score(y_test_l, forest_pred_l)"
   ]
  },
  {
   "cell_type": "code",
   "execution_count": 94,
   "metadata": {},
   "outputs": [
    {
     "name": "stdout",
     "output_type": "stream",
     "text": [
      "London dataset results:\n",
      "Root Mean Squared Error: 289.163573168845\n",
      "R-squared: 0.9343686316506019\n"
     ]
    }
   ],
   "source": [
    "print('London dataset results:')\n",
    "print(f\"Root Mean Squared Error: {forest_l_rmse}\")\n",
    "print(f\"R-squared: {forest_l_r2}\")"
   ]
  },
  {
   "cell_type": "markdown",
   "metadata": {},
   "source": [
    "### XGBoost Regressor"
   ]
  },
  {
   "cell_type": "code",
   "execution_count": 95,
   "metadata": {},
   "outputs": [],
   "source": [
    "xgbr_dc = XGBRegressor(objective='reg:squarederror', random_state=42)\n",
    "xgbr_dc.fit(X_train_dc, y_train_dc)\n",
    "\n",
    "xgbr_pred_dc = xgbr_dc.predict(X_test_dc)"
   ]
  },
  {
   "cell_type": "code",
   "execution_count": 96,
   "metadata": {},
   "outputs": [],
   "source": [
    "xgbr_dc_rmse = root_mean_squared_error(y_test_dc, xgbr_pred_dc)\n",
    "xgbr_dc_r2 = r2_score(y_test_dc, xgbr_pred_dc)"
   ]
  },
  {
   "cell_type": "code",
   "execution_count": 97,
   "metadata": {},
   "outputs": [
    {
     "name": "stdout",
     "output_type": "stream",
     "text": [
      "DC dataset results:\n",
      "Root Mean Squared Error: 69.92294989890084\n",
      "R-squared: 0.8994784355163574\n"
     ]
    }
   ],
   "source": [
    "print('DC dataset results:')\n",
    "print(f\"Root Mean Squared Error: {xgbr_dc_rmse}\")\n",
    "print(f\"R-squared: {xgbr_dc_r2}\")"
   ]
  },
  {
   "cell_type": "code",
   "execution_count": 98,
   "metadata": {},
   "outputs": [],
   "source": [
    "xgbr_l = XGBRegressor(objective='reg:squarederror', random_state=42)\n",
    "xgbr_l.fit(X_train_l, y_train_l)\n",
    "\n",
    "xgbr_pred_l = xgbr_l.predict(X_test_l)"
   ]
  },
  {
   "cell_type": "code",
   "execution_count": 99,
   "metadata": {},
   "outputs": [],
   "source": [
    "xgbr_l_rmse = root_mean_squared_error(y_test_l, xgbr_pred_l)\n",
    "xgbr_l_r2 = r2_score(y_test_l, xgbr_pred_l)"
   ]
  },
  {
   "cell_type": "code",
   "execution_count": 100,
   "metadata": {},
   "outputs": [
    {
     "name": "stdout",
     "output_type": "stream",
     "text": [
      "London dataset results:\n",
      "Root Mean Squared Error: 332.20786503370334\n",
      "R-squared: 0.9133748412132263\n"
     ]
    }
   ],
   "source": [
    "print('London dataset results:')\n",
    "print(f\"Root Mean Squared Error: {xgbr_l_rmse}\")\n",
    "print(f\"R-squared: {xgbr_l_r2}\")"
   ]
  },
  {
   "cell_type": "markdown",
   "metadata": {},
   "source": [
    "Compare the models' performance against each other:"
   ]
  },
  {
   "cell_type": "code",
   "execution_count": 101,
   "metadata": {},
   "outputs": [
    {
     "name": "stdout",
     "output_type": "stream",
     "text": [
      "Linear Regression results: \n",
      "   DC RMSE: 182.47521094734591 DC R2: 0.3154146362592527\n",
      "   London RMSE: 978.3105148178599 London R2: 0.24876167392851933\n",
      "\n",
      "SVR results: \n",
      "   DC RMSE: 210.58087348202932 DC R2: 0.08828792531790608\n",
      "   London RSME: 1086.1229944892814 London R2: 0.07406114159332133\n",
      "\n",
      "Random Forest Regression results: \n",
      "   DC RSME: 72.87654665983804 DC R2: 0.8908068409097215\n",
      "   London RSME: 289.163573168845 London R2: 0.9343686316506019\n",
      "\n",
      "XGBRegressor results: \n",
      "   DC RSME: 69.92294989890084 DC R2: 0.8994784355163574\n",
      "   London RSME: 332.20786503370334 London R2: 0.9133748412132263\n"
     ]
    }
   ],
   "source": [
    "print('Linear Regression results: \\n   DC RMSE:',dc_test_rmse,'DC R2:',dc_test_r2)\n",
    "print('   London RMSE:',l_test_rmse,'London R2:',l_test_r2)\n",
    "print('\\nSVR results: \\n   DC RMSE:',svr_dc_rmse,'DC R2:',svr_dc_r2)\n",
    "print('   London RSME:',svr_l_rmse,'London R2:',svr_l_r2)\n",
    "print('\\nRandom Forest Regression results: \\n   DC RSME:',forest_dc_rmse,'DC R2:',forest_dc_r2)\n",
    "print('   London RSME:',forest_l_rmse,'London R2:',forest_l_r2)\n",
    "print('\\nXGBRegressor results: \\n   DC RSME:',xgbr_dc_rmse,'DC R2:',xgbr_dc_r2)\n",
    "print('   London RSME:',xgbr_l_rmse,'London R2:',xgbr_l_r2)"
   ]
  },
  {
   "cell_type": "markdown",
   "metadata": {},
   "source": [
    "Of these four, the best performers, based on both the RMSE **and** the R2 are `RandomForestRegressor` and `XGBRegressor`."
   ]
  }
 ],
 "metadata": {
  "kernelspec": {
   "display_name": "base",
   "language": "python",
   "name": "python3"
  },
  "language_info": {
   "codemirror_mode": {
    "name": "ipython",
    "version": 3
   },
   "file_extension": ".py",
   "mimetype": "text/x-python",
   "name": "python",
   "nbconvert_exporter": "python",
   "pygments_lexer": "ipython3",
   "version": "3.12.3"
  }
 },
 "nbformat": 4,
 "nbformat_minor": 2
}
